{
 "cells": [
  {
   "cell_type": "markdown",
   "metadata": {},
   "source": [
    "# Project Analysis NoteBook\n",
    "## Data Input\n",
    "\n",
    "The datasets used in this project are available from ['The Cancer Genome Atlas' (TCGA)](www.http://cancergenome.nih.gov/) consortium.  Clinical and RNA-seq gene count data sets can be downloaded via a provided data portal, or using an R package called [TCGA2STAT](https://cran.r-project.org/web/packages/TCGA2STAT/index.html).  The R script used to download the data sets for this project are available in the local repository for this project ([GitHub link](https://github.com/CCThompson82/Prostate_metastasis/tree/master/Dataset_setup)).  If run locally, two [feather](https://github.com/wesm/feather) files will be written to the working directory, which will be read and imported with the python scripts below."
   ]
  },
  {
   "cell_type": "code",
   "execution_count": 1,
   "metadata": {
    "collapsed": false,
    "scrolled": true
   },
   "outputs": [
    {
     "name": "stdout",
     "output_type": "stream",
     "text": [
      "Clinical data set imported!\n",
      "Features: 21 \n",
      "Patients: 499\n",
      "\n",
      " The following features do not provide any information: \n",
      " ['Composite.Element.REF' 'ethnicity' 'gender' 'pathologicstage'\n",
      " 'pathologyMstage' 'tumortissuesite'] \n",
      "\n",
      "Variables that are not known at initial diagnosis: \n",
      " ['daystodeath' 'daystolastfollowup' 'daystopsa' 'histologicaltype'\n",
      " 'numberoflymphnodes' 'pathologyTstage' 'radiationtherapy' 'residualtumor'\n",
      " 'vitalstatus'] \n",
      "\n",
      "Variables that are known at the time of diagnosis:\n",
      " ['clinical_index' 'dateofinitialpathologicdiagnosis' 'gleasonscore'\n",
      " 'pathologyNstage' 'psavalue' 'race' 'yearstobirth']\n",
      "\n",
      "\n",
      "Gene Counts data set imported!\n",
      "Features: 20501 \n",
      "Patients: 497\n",
      "\n",
      "\n",
      "Transforming gene counts to transcript per million (TPM)\n",
      "\n",
      "Transformation Successful!\n",
      "\n",
      "497 Gene count estimate profiles have been transformed from gene counts to transcripts per million reads (TPM)\n"
     ]
    }
   ],
   "source": [
    "%run -i Dataset_cleanup/arrange_DF.py"
   ]
  },
  {
   "cell_type": "markdown",
   "metadata": {},
   "source": [
    "## Data Exploration\n",
    "### Clinical Information - including metastasis label\n",
    "There is missing clinical data in many of the features, including what will become the outcome label ('pathologyNstage' - metastasis state).  The series **'y_all'** is the full list of pathologyNstage, where 'n1' represents metastasis, and 'n0' represents no metastasis observed to date.  Some observations have no metastasis state recorded and are represented by NaN in y_all.  These are removed for the trimmed **'y'** series.  "
   ]
  },
  {
   "cell_type": "code",
   "execution_count": null,
   "metadata": {
    "collapsed": true
   },
   "outputs": [],
   "source": [
    "import matplotlib.pyplot as plt\n",
    "%matplotlib inline"
   ]
  },
  {
   "cell_type": "code",
   "execution_count": null,
   "metadata": {
    "collapsed": false
   },
   "outputs": [],
   "source": [
    "D = (('n0', y_all[y_all =='n0'].shape[0]), \n",
    "     ('n1', y_all[y_all =='n1'].shape[0]), \n",
    "     ('missing' , y_all[y_all.isnull()].shape[0]))\n",
    "exp_fig = plt.figure(figsize=(5 , 5))\n",
    "A = exp_fig.add_subplot(1,1,1)\n",
    "ind = A.bar(range(0,3), height= [D[0][1], D[1][1], D[2][1]], align='center', color = 'grey')\n",
    "A.set_xticks(range(0,3))\n",
    "A.set_ylabel('Frequency', fontsize=16)\n",
    "A.set_xlabel('Metastasis state', fontsize=16)\n",
    "A.set_ylim(0,400)\n",
    "A.set_xticklabels([D[0][0], D[1][0], D[2][0]])  #Must be a better way to do this as tuples (D, in this case) are not ordered?\n",
    "ep = plt.show\n",
    "exp_fig.savefig('Figures/Label_count.png')"
   ]
  },
  {
   "cell_type": "code",
   "execution_count": null,
   "metadata": {
    "collapsed": false
   },
   "outputs": [],
   "source": []
  },
  {
   "cell_type": "markdown",
   "metadata": {},
   "source": [
    "### Exploratory Visualization"
   ]
  },
  {
   "cell_type": "markdown",
   "metadata": {},
   "source": [
    "#### Gleason Score versus Metastasis analysis\n",
    "The Gleason score is the gold-standard diagnostic test for cancer severity, but is not highly correlative with metastatic disease.  "
   ]
  },
  {
   "cell_type": "code",
   "execution_count": null,
   "metadata": {
    "collapsed": false
   },
   "outputs": [],
   "source": [
    "clinical['gleasonscore'] = pd.to_numeric(clinical['gleasonscore'], errors= 'coerce')\n",
    "clinical['gleasonscore'].isnull().any()"
   ]
  },
  {
   "cell_type": "code",
   "execution_count": null,
   "metadata": {
    "collapsed": false
   },
   "outputs": [],
   "source": [
    "GS_hist = plt.figure(figsize=(5,5))\n",
    "A = GS_hist.add_subplot(1,1,1)\n",
    "sub = (('n1', ))\n",
    "\n",
    "subs = [clinical.loc[y_all[y_all == 'n0'].index]['gleasonscore'],\n",
    "        clinical.loc[y_all[y_all == 'n1'].index]['gleasonscore'],\n",
    "        clinical.loc[y_all[y_all.isnull()].index]['gleasonscore']]\n",
    "\n",
    "bins = [5.99, 6.99, 7.99, 8.99, 9.99, 10.99]\n",
    "A.hist(subs, bins, label =['n0', 'n1', 'unknown'], color = ['blue','red','grey'], stacked = True)\n",
    "A.set_ylim(0,275)\n",
    "A.set_ylabel('Count', fontsize=16)\n",
    "A.set_xlabel('Gleason Score', fontsize =16)\n",
    "A.legend()\n",
    "plt.show\n",
    "GS_hist.savefig('Figures/Gleason_hist.png')"
   ]
  },
  {
   "cell_type": "markdown",
   "metadata": {},
   "source": [
    "It appears that no metastases are recorded in those specimens graded at a Gleason score of 6.  This represents an opportunity to replace the missing data label with the most likely pathology state, n0, to more efficiently use the small data set.  "
   ]
  },
  {
   "cell_type": "code",
   "execution_count": null,
   "metadata": {
    "collapsed": false
   },
   "outputs": [],
   "source": [
    "\"\"\"Define the indices where gleasonscore == 6 and pathologyNstage is null\"\"\"\n",
    "set(y_all[y_all.isnull()].index).intersection(list(clinical[clinical['gleasonscore'] == 6].index))"
   ]
  },
  {
   "cell_type": "code",
   "execution_count": null,
   "metadata": {
    "collapsed": false
   },
   "outputs": [],
   "source": [
    "y_all.loc[set(y_all[y_all.isnull()].index).intersection(list(clinical[clinical['gleasonscore'] == 6].index))] = 'n0'"
   ]
  },
  {
   "cell_type": "code",
   "execution_count": null,
   "metadata": {
    "collapsed": false
   },
   "outputs": [],
   "source": [
    "GS_hist = plt.figure(figsize=(5,5))\n",
    "A = GS_hist.add_subplot(1,1,1)\n",
    "sub = (('n1', ))\n",
    "\n",
    "subs = [clinical.loc[y_all[y_all == 'n0'].index]['gleasonscore'],\n",
    "        clinical.loc[y_all[y_all == 'n1'].index]['gleasonscore'],\n",
    "        clinical.loc[y_all[y_all.isnull()].index]['gleasonscore']]\n",
    "\n",
    "bins = [5.99, 6.99, 7.99, 8.99, 9.99, 10.99]\n",
    "A.hist(subs, bins, label =['n0', 'n1', 'unknown'], color = ['blue','red','grey'], stacked = True)\n",
    "A.set_ylim(0,275)\n",
    "A.set_ylabel('Count', fontsize=16)\n",
    "A.set_xlabel('Gleason Score', fontsize =16)\n",
    "A.legend()\n",
    "plt.show\n",
    "GS_hist.savefig('Figures/Gleason_hist2.png')"
   ]
  },
  {
   "cell_type": "markdown",
   "metadata": {},
   "source": [
    "#### Gene Activation (Gene counts) Dataset\n",
    "The starting dataset, **'X_all'**, includes the transformed transcript per million (TPM) estimates for all RNA-seq profiles.  However some of the observations in this set do not have corresponding y_labels, as the clinical data set contains missing information.\n",
    "\n",
    "Therefore X_all was trimmed to include only those observations where a finite y label exists, to yield **'X'**.  "
   ]
  },
  {
   "cell_type": "code",
   "execution_count": null,
   "metadata": {
    "collapsed": false
   },
   "outputs": [],
   "source": [
    "print(\"Total observations in original dataset:\",clinical.shape[0])\n",
    "\n",
    "not_labeled = y_all[y_all.isnull()] \n",
    "y = y_all[y_all.notnull()]\n",
    "\n",
    "print(\"\\nObservations with metastasis label:\",y.shape[0])\n",
    "print(\"Unlabeled observations (removed:)\",not_labeled.shape[0])\n"
   ]
  },
  {
   "cell_type": "code",
   "execution_count": null,
   "metadata": {
    "collapsed": false
   },
   "outputs": [],
   "source": [
    "\"\"\"Limit X to only observations where a target label is present.\"\"\"\n",
    "X = X_all.loc[set(y.index).intersection(X_all.index)]  #Only observations that also have a known metastasis state are kept.\n",
    "y = y.loc[set(X.index).intersection(y.index)]\n",
    "print(\"X dimensions:\",X.shape,\"\\ny dimensions:\",y.shape)"
   ]
  },
  {
   "cell_type": "code",
   "execution_count": null,
   "metadata": {
    "collapsed": false
   },
   "outputs": [],
   "source": [
    "X_no_y = X_all.loc[list(not_labeled.index)]\n",
    "print(\"Dimensions of unlabeled dataset:\",X_no_y.shape)"
   ]
  },
  {
   "cell_type": "code",
   "execution_count": null,
   "metadata": {
    "collapsed": false,
    "scrolled": false
   },
   "outputs": [],
   "source": [
    "X.isnull().values.any()"
   ]
  },
  {
   "cell_type": "code",
   "execution_count": null,
   "metadata": {
    "collapsed": false
   },
   "outputs": [],
   "source": [
    "from sklearn.feature_selection import SelectKBest, f_classif\n",
    "K_selector = SelectKBest(f_classif, k = 'all') # using k=all here and will filter based on F-stat later.  \n",
    "K = K_selector.fit(X, y)\n",
    "K_df = pd.DataFrame({'Gene':X.columns, 'F_score':K.scores_})\n",
    "K_df.dropna(inplace=True)"
   ]
  },
  {
   "cell_type": "code",
   "execution_count": null,
   "metadata": {
    "collapsed": false
   },
   "outputs": [],
   "source": [
    "F_fig = plt.figure(figsize=(15,5))\n",
    "A = F_fig.add_subplot(1,2,1)\n",
    "A.hist(K_df['F_score'], bins=range(0,45,1), facecolor='green')\n",
    "#A.set_yscale('log')\n",
    "A.set_ylabel('Count', fontsize=16)\n",
    "A.set_xlabel(\"F-statistic\", fontsize=16)\n",
    "F_fig.suptitle(\"Distribution of F-statistics for metatastasis state group comparison of gene expression\", fontsize = 18)\n",
    "B = F_fig.add_subplot(1,2,2)\n",
    "B.hist(K_df['F_score'], bins=range(0,45,1), facecolor='green')\n",
    "B.set_yscale('log')\n",
    "B.set_ylabel('Count', fontsize=16)\n",
    "B.set_xlabel(\"F-statistic\", fontsize=16)\n",
    "#B.set_title(\"Distribution of F-statistics for metatastasis state group comparison of gene expression\", fontsize = 18)\n",
    "plt.show\n",
    "F_fig.savefig(\"Figures/F_distribution.png\")"
   ]
  },
  {
   "cell_type": "markdown",
   "metadata": {},
   "source": [
    "### Benchmark \n",
    "#### Determine the Null Error / Accuracy Rates for Prediction\n",
    "As the dataset is unbalanced, knowledge of the null rate - i.e. the performance measure given if a model were to predict the positive label indiscriminantly - is an important benchmark upon which to improve.  "
   ]
  },
  {
   "cell_type": "code",
   "execution_count": null,
   "metadata": {
    "collapsed": false
   },
   "outputs": [],
   "source": [
    "from sklearn.metrics import matthews_corrcoef, fbeta_score, classification_report, log_loss\n",
    "from sklearn.model_selection import cross_val_score"
   ]
  },
  {
   "cell_type": "code",
   "execution_count": null,
   "metadata": {
    "collapsed": false
   },
   "outputs": [],
   "source": [
    "\"\"\"Scorers needed throughout code:\"\"\"\n",
    "from sklearn.metrics import make_scorer\n",
    "LL_scorer = make_scorer(log_loss, greater_is_better=False, needs_proba=True, needs_threshold=False)\n",
    "MCC_scorer = make_scorer(matthews_corrcoef, greater_is_better=True, needs_proba=False, needs_threshold=False)\n",
    "fbeta_scorer = make_scorer(fbeta_score, greater_is_better=True, needs_proba=False, needs_threshold=False, pos_label='n1', beta = 2)"
   ]
  },
  {
   "cell_type": "code",
   "execution_count": null,
   "metadata": {
    "collapsed": false,
    "scrolled": true
   },
   "outputs": [],
   "source": [
    "y_n1 = pd.Series(['n1']*len(y))\n",
    "print('Model predicts indiscriminantly, \"n1\"')\n",
    "print('\\nNull F beta: ', fbeta_score(y, y_n1, pos_label='n1',beta=2))\n",
    "print('\\nMCC: ',matthews_corrcoef(y, y_n1),\"\\n\")\n",
    "print(classification_report(y, y_n1, labels = ['n0','n1']))\n",
    "print('\\nLogLoss: ', log_loss(y.replace({'n1':1, 'n0':0}), y_n1.replace({'n1':1, 'n0':0})),\"\\n\")"
   ]
  },
  {
   "cell_type": "code",
   "execution_count": null,
   "metadata": {
    "collapsed": false
   },
   "outputs": [],
   "source": [
    "gleason = clinical['gleasonscore']\n",
    "age = pd.to_numeric(clinical['yearstobirth'], errors = 'coerce')\n",
    "age.fillna(value = np.mean(age), inplace=True)\n",
    "psa = pd.to_numeric(clinical['psavalue'], errors= 'coerce')\n",
    "psa.fillna(value = np.mean(psa), inplace =True)\n",
    "gleason = gleason.loc[y.index]\n",
    "\n",
    "benchmarkDF = pd.DataFrame({'gleason': gleason,\n",
    "                            'age':age ,\n",
    "                            'psa' : psa,\n",
    "                            'y' : y}, index=X.index)\n",
    "\n",
    "sm = pd.scatter_matrix(benchmarkDF, \n",
    "                       alpha=0.25, \n",
    "                       figsize= (10,10), \n",
    "                       diagonal = 'kde', \n",
    "                       c = benchmarkDF['y'].replace({'n1': 'red','n0':'blue'}), \n",
    "                       s = 125)\n",
    "\n",
    "plt.savefig(\"Figures/clin_scatter_matrix.png\")"
   ]
  },
  {
   "cell_type": "code",
   "execution_count": null,
   "metadata": {
    "collapsed": false
   },
   "outputs": [],
   "source": [
    "benchmarkDF.drop(['y'], axis=1, inplace = True)\n"
   ]
  },
  {
   "cell_type": "code",
   "execution_count": null,
   "metadata": {
    "collapsed": false
   },
   "outputs": [],
   "source": [
    "benchmarkDF = benchmarkDF.reindex(y.index)"
   ]
  },
  {
   "cell_type": "code",
   "execution_count": null,
   "metadata": {
    "collapsed": true
   },
   "outputs": [],
   "source": [
    "from sklearn.linear_model import LogisticRegression"
   ]
  },
  {
   "cell_type": "code",
   "execution_count": null,
   "metadata": {
    "collapsed": true
   },
   "outputs": [],
   "source": [
    "from sklearn.model_selection import train_test_split\n",
    "\n",
    "train_k = round(len(y)*0.75)\n",
    "test_k = len(y) - train_k\n",
    "seed = 123\n",
    "folds = 4"
   ]
  },
  {
   "cell_type": "code",
   "execution_count": null,
   "metadata": {
    "collapsed": true
   },
   "outputs": [],
   "source": [
    "benchmark_train, benchmark_test, bench_y_train, bench_y_test = train_test_split(benchmarkDF, y, \n",
    "                                                    test_size= test_k, \n",
    "                                                    train_size = train_k,\n",
    "                                                    random_state = seed,\n",
    "                                                    stratify = y)"
   ]
  },
  {
   "cell_type": "code",
   "execution_count": null,
   "metadata": {
    "collapsed": false,
    "scrolled": true
   },
   "outputs": [],
   "source": [
    "clf_LR_bm = LogisticRegression(penalty='l2',\n",
    "                              dual=False,\n",
    "                              tol=0.0001,\n",
    "                              C=1,\n",
    "                              fit_intercept=True,\n",
    "                              intercept_scaling=1,\n",
    "                              class_weight='balanced',\n",
    "                              random_state=123,\n",
    "                              solver='liblinear',\n",
    "                              max_iter=100,\n",
    "                              multi_class='ovr',\n",
    "                              verbose=0,\n",
    "                              warm_start=False,\n",
    "                              n_jobs=1)\n",
    "\n",
    "clf_LR_bm.fit(benchmark_train, bench_y_train)  #use training set for model learning\n",
    "\n",
    "bench_fig = plt.figure(figsize=(15,5))\n",
    "A= bench_fig.add_subplot(1,2,1)\n",
    "B = bench_fig.add_subplot(1,2,2)\n",
    "A.scatter(benchmarkDF['gleason'], clf_LR_bm.predict_proba(benchmarkDF)[:,1], \n",
    "          color = y.replace({'n1':'red', 'n0': 'blue', 'NaN':'grey'}),\n",
    "          alpha = 0.3,\n",
    "          s = 25)\n",
    "A.set_ylabel('Benchmark Logistic Regression Prediction')\n",
    "A.set_xlabel('Gleason')\n",
    "plt.suptitle('Prognosis of metastasis risk based on features available at presentation', fontsize=20)\n",
    "\n",
    "groups = [clf_LR_bm.predict_proba(benchmarkDF.loc[y[y=='n1'].index, :])[:,1], \n",
    "          clf_LR_bm.predict_proba(benchmarkDF.loc[y[y=='n0'].index, :])[:,1]]\n",
    "bins = np.arange(0,1,0.05)\n",
    "B.hist(groups, label =['n1', 'n0'],  bins = bins, color = ['red','blue'], stacked = True)\n",
    "B.set_xlabel('Probability of Metastasis')\n",
    "B.set_ylabel('Bin Count')\n",
    "A.set_ylim(0,1)\n",
    "B.legend()\n",
    "#bench_fig.title(\"Prediction of Metastasis\")\n",
    "plt.show\n",
    "bench_fig.savefig('Figures/benchmark.png')"
   ]
  },
  {
   "cell_type": "code",
   "execution_count": null,
   "metadata": {
    "collapsed": false,
    "scrolled": true
   },
   "outputs": [],
   "source": [
    "print(benchmarkDF.columns)\n",
    "clf_LR_bm.coef_"
   ]
  },
  {
   "cell_type": "code",
   "execution_count": null,
   "metadata": {
    "collapsed": false,
    "scrolled": true
   },
   "outputs": [],
   "source": [
    "\"Benchmark Performance on Test dataset\"\n",
    "print(clf_LR_bm)\n",
    "print('\\nNull F beta: ', fbeta_score(bench_y_test, clf_LR_bm.predict(benchmark_test), pos_label='n1',beta=2))\n",
    "print('\\nMCC: ',matthews_corrcoef(bench_y_test, clf_LR_bm.predict(benchmark_test)),\"\\n\")\n",
    "print(classification_report(bench_y_test, clf_LR_bm.predict(benchmark_test), labels = ['n0','n1']))\n",
    "print('\\nLogLoss: ', log_loss(bench_y_test.replace({'n0':0, 'n1':1}), \n",
    "         clf_LR_bm.predict_proba(benchmark_test)[:,1]))"
   ]
  },
  {
   "cell_type": "markdown",
   "metadata": {},
   "source": [
    "## Feature Reduction\n",
    "### Gini Importance Filter"
   ]
  },
  {
   "cell_type": "code",
   "execution_count": null,
   "metadata": {
    "collapsed": true
   },
   "outputs": [],
   "source": [
    "from sklearn.ensemble import RandomForestClassifier"
   ]
  },
  {
   "cell_type": "code",
   "execution_count": null,
   "metadata": {
    "collapsed": false
   },
   "outputs": [],
   "source": [
    "clf_RF = RandomForestClassifier(n_estimators=1000, \n",
    "                                criterion='gini', \n",
    "                                max_depth=3, \n",
    "                                min_samples_split=30, \n",
    "                                min_samples_leaf=5, \n",
    "                                min_weight_fraction_leaf=0.0, \n",
    "                                max_features= 'auto', \n",
    "                                max_leaf_nodes=None, \n",
    "                                bootstrap=True, \n",
    "                                oob_score=False, \n",
    "                                n_jobs=1, \n",
    "                                random_state=seed, \n",
    "                                verbose=0, \n",
    "                                warm_start=False, \n",
    "                                class_weight='balanced')\n"
   ]
  },
  {
   "cell_type": "code",
   "execution_count": null,
   "metadata": {
    "collapsed": false
   },
   "outputs": [],
   "source": [
    "clf_RF.fit(X, y)\n",
    "Gini_DF = pd.DataFrame({'Gini' :clf_RF.feature_importances_}, index=X.columns).sort_values(by = ['Gini'], axis = 0, ascending = False)\n",
    "#Gini_DF.reset_index(inplace=True)\n",
    "print(Gini_DF.head())"
   ]
  },
  {
   "cell_type": "code",
   "execution_count": null,
   "metadata": {
    "collapsed": true
   },
   "outputs": [],
   "source": [
    "\"\"\"Set k number of genes to retain\"\"\"\n",
    "k = 20"
   ]
  },
  {
   "cell_type": "code",
   "execution_count": null,
   "metadata": {
    "collapsed": false
   },
   "outputs": [],
   "source": [
    "X = X.loc[:,Gini_DF.iloc[0:k].index]"
   ]
  },
  {
   "cell_type": "markdown",
   "metadata": {
    "collapsed": true
   },
   "source": [
    "## Scale X to Xs"
   ]
  },
  {
   "cell_type": "code",
   "execution_count": null,
   "metadata": {
    "collapsed": false
   },
   "outputs": [],
   "source": [
    "\n",
    "from sklearn.preprocessing import StandardScaler"
   ]
  },
  {
   "cell_type": "code",
   "execution_count": null,
   "metadata": {
    "collapsed": false
   },
   "outputs": [],
   "source": [
    "scaler = StandardScaler()\n",
    "Xs = pd.DataFrame(scaler.fit_transform(X), columns = X.columns, index = X.index)\n"
   ]
  },
  {
   "cell_type": "code",
   "execution_count": null,
   "metadata": {
    "collapsed": true
   },
   "outputs": [],
   "source": []
  },
  {
   "cell_type": "markdown",
   "metadata": {},
   "source": [
    "## PCA Transformation"
   ]
  },
  {
   "cell_type": "code",
   "execution_count": null,
   "metadata": {
    "collapsed": true
   },
   "outputs": [],
   "source": [
    "from sklearn.decomposition import PCA\n",
    "components = 2"
   ]
  },
  {
   "cell_type": "code",
   "execution_count": null,
   "metadata": {
    "collapsed": false
   },
   "outputs": [],
   "source": [
    "pca = PCA(n_components = components, whiten=False)\n",
    "pca.fit(Xs)\n",
    "Xpc = pd.DataFrame(pca.transform(Xs), columns = range(0,components,1), index = X.index)"
   ]
  },
  {
   "cell_type": "code",
   "execution_count": null,
   "metadata": {
    "collapsed": false
   },
   "outputs": [],
   "source": [
    "sm = pd.scatter_matrix(Xpc, \n",
    "                       alpha=0.5, \n",
    "                       figsize= (10,10), \n",
    "                       diagonal = 'kde', \n",
    "                       c = y.replace({'n1': 'red','n0':'blue'}), \n",
    "                       s = 50)\n",
    "plt.savefig(\"Figures/PC_components_scatter_matrix.png\")"
   ]
  },
  {
   "cell_type": "code",
   "execution_count": null,
   "metadata": {
    "collapsed": false
   },
   "outputs": [],
   "source": [
    "%run -i 'support files/renders_PCA.py'"
   ]
  },
  {
   "cell_type": "code",
   "execution_count": null,
   "metadata": {
    "collapsed": false
   },
   "outputs": [],
   "source": [
    "pca_results(Xs, pca)"
   ]
  },
  {
   "cell_type": "markdown",
   "metadata": {},
   "source": [
    "### Test Train Split"
   ]
  },
  {
   "cell_type": "code",
   "execution_count": null,
   "metadata": {
    "collapsed": false
   },
   "outputs": [],
   "source": [
    "\n",
    "X_train, X_test, y_train, y_test = train_test_split(Xpc, y, \n",
    "                                                    test_size= test_k, \n",
    "                                                    train_size = train_k,\n",
    "                                                    random_state = seed,\n",
    "                                                    stratify = y)"
   ]
  },
  {
   "cell_type": "markdown",
   "metadata": {},
   "source": [
    "## LR with GridSearch"
   ]
  },
  {
   "cell_type": "code",
   "execution_count": null,
   "metadata": {
    "collapsed": true
   },
   "outputs": [],
   "source": [
    "from sklearn.linear_model import LogisticRegressionCV"
   ]
  },
  {
   "cell_type": "code",
   "execution_count": null,
   "metadata": {
    "collapsed": false
   },
   "outputs": [],
   "source": [
    "\n",
    "clf_LR = LogisticRegressionCV(Cs=10, \n",
    "                              fit_intercept=True, \n",
    "                              cv=folds, \n",
    "                              dual=False, \n",
    "                              penalty='l2', \n",
    "                              scoring='log_loss', \n",
    "                              solver='liblinear', \n",
    "                              tol=0.0001, \n",
    "                              max_iter=100, \n",
    "                              class_weight='balanced', \n",
    "                              n_jobs=1, \n",
    "                              verbose=0, \n",
    "                              refit=True, \n",
    "                              intercept_scaling=1.0, \n",
    "                              multi_class='ovr', \n",
    "                              random_state=seed)\n",
    "clf_LR.fit(X_train, y_train)"
   ]
  },
  {
   "cell_type": "code",
   "execution_count": null,
   "metadata": {
    "collapsed": false
   },
   "outputs": [],
   "source": [
    "clf_LR.C_"
   ]
  },
  {
   "cell_type": "code",
   "execution_count": null,
   "metadata": {
    "collapsed": false
   },
   "outputs": [],
   "source": [
    "\"Benchmark Performance on Test dataset\"\n",
    "print(clf_LR)\n",
    "print('\\nNull F beta: ', fbeta_score(y_test, clf_LR.predict(X_test), pos_label='n1',beta=2))\n",
    "print('\\nMCC: ',matthews_corrcoef(y_test, clf_LR.predict(X_test)),\"\\n\")\n",
    "print(classification_report(y_test, clf_LR.predict(X_test), labels = ['n0','n1']))\n",
    "print('\\nLogLoss: ', log_loss(y_test.replace({'n0':0, 'n1':1}), \n",
    "         clf_LR.predict_proba(X_test)[:,1]))"
   ]
  },
  {
   "cell_type": "code",
   "execution_count": null,
   "metadata": {
    "collapsed": false
   },
   "outputs": [],
   "source": [
    "clf_LR.coef_"
   ]
  },
  {
   "cell_type": "markdown",
   "metadata": {},
   "source": [
    "## LR for Gleason + PC_0"
   ]
  },
  {
   "cell_type": "code",
   "execution_count": null,
   "metadata": {
    "collapsed": false
   },
   "outputs": [],
   "source": [
    "X_2f = pd.DataFrame({'PC_0': Xpc.loc[:,0], 'gleason': benchmarkDF.loc[:,'gleason']}, index=Xpc.index)\n",
    "X_2f.shape"
   ]
  },
  {
   "cell_type": "code",
   "execution_count": null,
   "metadata": {
    "collapsed": false
   },
   "outputs": [],
   "source": [
    "X_3f = Xpc.join(benchmarkDF.loc[:,'gleason'])\n",
    "X_3f.shape"
   ]
  },
  {
   "cell_type": "markdown",
   "metadata": {},
   "source": [
    "## 2 Features"
   ]
  },
  {
   "cell_type": "code",
   "execution_count": null,
   "metadata": {
    "collapsed": true
   },
   "outputs": [],
   "source": [
    "X_train = X_2f.loc[X_train.index,:]\n",
    "X_test = X_2f.loc[X_test.index,:]"
   ]
  },
  {
   "cell_type": "code",
   "execution_count": null,
   "metadata": {
    "collapsed": false
   },
   "outputs": [],
   "source": [
    "clf_LR = LogisticRegressionCV(Cs=10, \n",
    "                              fit_intercept=True, \n",
    "                              cv=folds, \n",
    "                              dual=False, \n",
    "                              penalty='l2', \n",
    "                              scoring='log_loss', \n",
    "                              solver='liblinear', \n",
    "                              tol=0.0001, \n",
    "                              max_iter=100, \n",
    "                              class_weight='balanced', \n",
    "                              n_jobs=1, \n",
    "                              verbose=0, \n",
    "                              refit=True, \n",
    "                              intercept_scaling=1.0, \n",
    "                              multi_class='ovr', \n",
    "                              random_state=seed)\n",
    "clf_LR.fit(X_train, y_train)"
   ]
  },
  {
   "cell_type": "code",
   "execution_count": null,
   "metadata": {
    "collapsed": false
   },
   "outputs": [],
   "source": [
    "bench_fig = plt.figure(figsize=(15,5))\n",
    "A= bench_fig.add_subplot(1,2,1)\n",
    "B = bench_fig.add_subplot(1,2,2)\n",
    "A.scatter(clf_LR_bm.predict_proba(benchmarkDF.loc[X_train.index,:])[:,1],\n",
    "          clf_LR.predict_proba(X_train)[:,1],\n",
    "          color = y_train.replace({'n1':'red', 'n0': 'blue', 'NaN':'grey'}),\n",
    "          alpha = 0.4,\n",
    "          s = 25)\n",
    "A.set_ylabel('LR')\n",
    "A.set_xlabel('Benchmark LR')\n",
    "#plt.suptitle('Prognosis of metastasis risk based on features available at presentation', fontsize=20)\n",
    "\n",
    "B.scatter(clf_LR_bm.predict_proba(benchmarkDF.loc[X_test.index,:])[:,1],\n",
    "          clf_LR.predict_proba(X_test)[:,1],\n",
    "          color = y_test.replace({'n1':'red', 'n0': 'blue', 'NaN':'grey'}),\n",
    "          alpha = 0.5,\n",
    "          s = 25)\n",
    "A.set_ylim(0,1)\n",
    "A.set_xlim(0,1)\n",
    "B.set_ylabel('Model Probability of Metastasis')\n",
    "B.set_xlabel('Benchmark Probability')\n",
    "B.set_ylim(0,1)\n",
    "B.set_xlim(0,1)\n",
    "#B.legend()\n",
    "#bench_fig.title(\"Prediction of Metastasis\")\n",
    "plt.show\n",
    "bench_fig.savefig('Figures/model_benchmark_comparison_train_test.png')"
   ]
  },
  {
   "cell_type": "code",
   "execution_count": null,
   "metadata": {
    "collapsed": false
   },
   "outputs": [],
   "source": [
    "bench_fig = plt.figure(figsize=(15,5))\n",
    "A= bench_fig.add_subplot(1,2,1)\n",
    "B = bench_fig.add_subplot(1,2,2)\n",
    "A.scatter(benchmarkDF.loc[X_train.index,'gleason'],\n",
    "          clf_LR.predict_proba(X_train)[:,1],\n",
    "          color = y_train.replace({'n1':'red', 'n0': 'blue', 'NaN':'grey'}),\n",
    "          alpha = 0.4,\n",
    "          s = 25)\n",
    "A.set_xlabel('Gleason')\n",
    "A.set_ylabel('Model Probability of Metastasis')\n",
    "#plt.suptitle('Prognosis of metastasis risk based on features available at presentation', fontsize=20)\n",
    "\n",
    "B.scatter(benchmarkDF.loc[X_test.index,'gleason'],\n",
    "          clf_LR.predict_proba(X_test)[:,1],\n",
    "          color = y_test.replace({'n1':'red', 'n0': 'blue', 'NaN':'grey'}),\n",
    "          alpha = 0.5,\n",
    "          s = 25)\n",
    "A.set_ylim(0,1)\n",
    "#A.set_xlim(0,1)\n",
    "B.set_ylabel('Model Probability of Metastasis')\n",
    "B.set_xlabel('Gleason')\n",
    "B.set_ylim(0,1)\n",
    "B.set_xlim(5,11)\n",
    "#B.legend()\n",
    "#bench_fig.title(\"Prediction of Metastasis\")\n",
    "plt.show\n",
    "bench_fig.savefig('Figures/gleason_model_prob.png')"
   ]
  },
  {
   "cell_type": "code",
   "execution_count": null,
   "metadata": {
    "collapsed": false,
    "scrolled": true
   },
   "outputs": [],
   "source": [
    "\n",
    "print(clf_LR)\n",
    "print('\\nF beta: ', fbeta_score(y_test, clf_LR.predict(X_test), pos_label='n1',beta=2))\n",
    "print('\\nMCC: ',matthews_corrcoef(y_test, clf_LR.predict(X_test)),\"\\n\")\n",
    "print(classification_report(y_test, clf_LR.predict(X_test), labels = ['n0','n1']))\n",
    "print('\\nLogLoss: ', log_loss(y_test.replace({'n0':0, 'n1':1}), \n",
    "         clf_LR.predict_proba(X_test)[:,1]))"
   ]
  },
  {
   "cell_type": "code",
   "execution_count": null,
   "metadata": {
    "collapsed": false
   },
   "outputs": [],
   "source": [
    "clf_LR.coef_"
   ]
  },
  {
   "cell_type": "code",
   "execution_count": null,
   "metadata": {
    "collapsed": false
   },
   "outputs": [],
   "source": [
    "X_train.columns"
   ]
  },
  {
   "cell_type": "code",
   "execution_count": null,
   "metadata": {
    "collapsed": false
   },
   "outputs": [],
   "source": [
    "clf_LR.C_"
   ]
  },
  {
   "cell_type": "markdown",
   "metadata": {
    "collapsed": true
   },
   "source": [
    "## 3 Features"
   ]
  },
  {
   "cell_type": "code",
   "execution_count": null,
   "metadata": {
    "collapsed": true
   },
   "outputs": [],
   "source": []
  },
  {
   "cell_type": "code",
   "execution_count": null,
   "metadata": {
    "collapsed": true
   },
   "outputs": [],
   "source": [
    "X_train = X_3f.loc[X_train.index,:]\n",
    "X_test = X_3f.loc[X_test.index,:]"
   ]
  },
  {
   "cell_type": "code",
   "execution_count": null,
   "metadata": {
    "collapsed": false
   },
   "outputs": [],
   "source": [
    "clf_LR = LogisticRegressionCV(Cs=10, \n",
    "                              fit_intercept=True, \n",
    "                              cv=folds, \n",
    "                              dual=False, \n",
    "                              penalty='l2', \n",
    "                              scoring='log_loss', \n",
    "                              solver='liblinear', \n",
    "                              tol=0.0001, \n",
    "                              max_iter=100, \n",
    "                              class_weight='balanced', \n",
    "                              n_jobs=1, \n",
    "                              verbose=0, \n",
    "                              refit=True, \n",
    "                              intercept_scaling=1.0, \n",
    "                              multi_class='ovr', \n",
    "                              random_state=seed)\n",
    "clf_LR.fit(X_train, y_train)"
   ]
  },
  {
   "cell_type": "code",
   "execution_count": null,
   "metadata": {
    "collapsed": false
   },
   "outputs": [],
   "source": [
    "bench_fig = plt.figure(figsize=(15,5))\n",
    "A= bench_fig.add_subplot(1,2,1)\n",
    "B = bench_fig.add_subplot(1,2,2)\n",
    "A.scatter(clf_LR_bm.predict_proba(benchmarkDF.loc[X_train.index,:])[:,1],\n",
    "          clf_LR.predict_proba(X_train)[:,1],\n",
    "          color = y_train.replace({'n1':'red', 'n0': 'blue', 'NaN':'grey'}),\n",
    "          alpha = 0.4,\n",
    "          s = 25)\n",
    "A.set_ylabel('LR')\n",
    "A.set_xlabel('Benchmark LR')\n",
    "#plt.suptitle('Prognosis of metastasis risk based on features available at presentation', fontsize=20)\n",
    "\n",
    "B.scatter(clf_LR_bm.predict_proba(benchmarkDF.loc[X_test.index,:])[:,1],\n",
    "          clf_LR.predict_proba(X_test)[:,1],\n",
    "          color = y_test.replace({'n1':'red', 'n0': 'blue', 'NaN':'grey'}),\n",
    "          alpha = 0.5,\n",
    "          s = 25)\n",
    "A.set_ylim(0,1)\n",
    "A.set_xlim(0,1)\n",
    "B.set_ylabel('Model Probability of Metastasis')\n",
    "B.set_xlabel('Benchmark Probability')\n",
    "B.set_ylim(0,1)\n",
    "B.set_xlim(0,1)\n",
    "#B.legend()\n",
    "#bench_fig.title(\"Prediction of Metastasis\")\n",
    "plt.show\n",
    "bench_fig.savefig('Figures/3f_benchmark.png')"
   ]
  },
  {
   "cell_type": "code",
   "execution_count": null,
   "metadata": {
    "collapsed": false
   },
   "outputs": [],
   "source": [
    "bench_fig = plt.figure(figsize=(15,5))\n",
    "A= bench_fig.add_subplot(1,2,1)\n",
    "B = bench_fig.add_subplot(1,2,2)\n",
    "A.scatter(benchmarkDF.loc[X_train.index,'gleason'],\n",
    "          clf_LR.predict_proba(X_train)[:,1],\n",
    "          color = y_train.replace({'n1':'red', 'n0': 'blue', 'NaN':'grey'}),\n",
    "          alpha = 0.4,\n",
    "          s = 25)\n",
    "A.set_xlabel('Gleason')\n",
    "A.set_ylabel('Model Probability of Metastasis')\n",
    "#plt.suptitle('Prognosis of metastasis risk based on features available at presentation', fontsize=20)\n",
    "\n",
    "B.scatter(benchmarkDF.loc[X_test.index,'gleason'],\n",
    "          clf_LR.predict_proba(X_test)[:,1],\n",
    "          color = y_test.replace({'n1':'red', 'n0': 'blue', 'NaN':'grey'}),\n",
    "          alpha = 0.5,\n",
    "          s = 25)\n",
    "A.set_ylim(0,1)\n",
    "#A.set_xlim(0,1)\n",
    "B.set_ylabel('Model Probability of Metastasis')\n",
    "B.set_xlabel('Gleason')\n",
    "B.set_ylim(0,1)\n",
    "B.set_xlim(5,11)\n",
    "#B.legend()\n",
    "#bench_fig.title(\"Prediction of Metastasis\")\n",
    "plt.show\n",
    "bench_fig.savefig('Figures/3f_gleason.png')"
   ]
  },
  {
   "cell_type": "code",
   "execution_count": null,
   "metadata": {
    "collapsed": false,
    "scrolled": false
   },
   "outputs": [],
   "source": [
    "\n",
    "print(clf_LR)\n",
    "print('\\nF beta: ', fbeta_score(y_test, clf_LR.predict(X_test), pos_label='n1',beta=2))\n",
    "print('\\nMCC: ',matthews_corrcoef(y_test, clf_LR.predict(X_test)),\"\\n\")\n",
    "print(classification_report(y_test, clf_LR.predict(X_test), labels = ['n0','n1']))\n",
    "print('\\nLogLoss: ', log_loss(y_test.replace({'n0':0, 'n1':1}), \n",
    "         clf_LR.predict_proba(X_test)[:,1]))"
   ]
  },
  {
   "cell_type": "code",
   "execution_count": null,
   "metadata": {
    "collapsed": false
   },
   "outputs": [],
   "source": [
    "clf_LR.coef_"
   ]
  },
  {
   "cell_type": "code",
   "execution_count": null,
   "metadata": {
    "collapsed": false
   },
   "outputs": [],
   "source": [
    "X_train.columns"
   ]
  },
  {
   "cell_type": "code",
   "execution_count": null,
   "metadata": {
    "collapsed": false
   },
   "outputs": [],
   "source": [
    "clf_LR"
   ]
  },
  {
   "cell_type": "code",
   "execution_count": null,
   "metadata": {
    "collapsed": false,
    "scrolled": true
   },
   "outputs": [],
   "source": [
    "clf_LR.C_"
   ]
  },
  {
   "cell_type": "code",
   "execution_count": null,
   "metadata": {
    "collapsed": true
   },
   "outputs": [],
   "source": []
  },
  {
   "cell_type": "markdown",
   "metadata": {},
   "source": [
    "## LDA exploration"
   ]
  },
  {
   "cell_type": "code",
   "execution_count": null,
   "metadata": {
    "collapsed": false
   },
   "outputs": [],
   "source": [
    "from sklearn.discriminant_analysis import LinearDiscriminantAnalysis"
   ]
  },
  {
   "cell_type": "code",
   "execution_count": null,
   "metadata": {
    "collapsed": true
   },
   "outputs": [],
   "source": [
    "lda = LinearDiscriminantAnalysis(solver='svd', \n",
    "                                 shrinkage=None, \n",
    "                                 priors=None, \n",
    "                                 n_components=1, \n",
    "                                 store_covariance=False, \n",
    "                                 tol=0.0001)"
   ]
  },
  {
   "cell_type": "code",
   "execution_count": null,
   "metadata": {
    "collapsed": false
   },
   "outputs": [],
   "source": [
    "lda.fit(Xs.loc[X_train.index,:], y_train)"
   ]
  },
  {
   "cell_type": "code",
   "execution_count": null,
   "metadata": {
    "collapsed": false
   },
   "outputs": [],
   "source": [
    "Xlda = pd.DataFrame({'LDA' : lda.transform(Xs).reshape(1,-1)[0], 'gleason': benchmarkDF.loc[:,'gleason']}, index=Xs.index)"
   ]
  },
  {
   "cell_type": "code",
   "execution_count": null,
   "metadata": {
    "collapsed": true
   },
   "outputs": [],
   "source": [
    "X_train = Xlda.loc[X_train.index,:]\n",
    "X_test = Xlda.loc[X_test.index,:]"
   ]
  },
  {
   "cell_type": "code",
   "execution_count": null,
   "metadata": {
    "collapsed": false
   },
   "outputs": [],
   "source": [
    "clf_LR = LogisticRegressionCV(Cs=10, \n",
    "                              fit_intercept=True, \n",
    "                              cv=folds, \n",
    "                              dual=False, \n",
    "                              penalty='l2', \n",
    "                              scoring='log_loss', \n",
    "                              solver='liblinear', \n",
    "                              tol=0.0001, \n",
    "                              max_iter=100, \n",
    "                              class_weight='balanced', \n",
    "                              n_jobs=1, \n",
    "                              verbose=0, \n",
    "                              refit=True, \n",
    "                              intercept_scaling=1.0, \n",
    "                              multi_class='ovr', \n",
    "                              random_state=seed)\n",
    "clf_LR.fit(X_train, y_train)"
   ]
  },
  {
   "cell_type": "code",
   "execution_count": null,
   "metadata": {
    "collapsed": false
   },
   "outputs": [],
   "source": [
    "bench_fig = plt.figure(figsize=(15,5))\n",
    "A= bench_fig.add_subplot(1,2,1)\n",
    "B = bench_fig.add_subplot(1,2,2)\n",
    "A.scatter(clf_LR_bm.predict_proba(benchmarkDF.loc[X_train.index,:])[:,1],\n",
    "          clf_LR.predict_proba(X_train)[:,1],\n",
    "          color = y_train.replace({'n1':'red', 'n0': 'blue', 'NaN':'grey'}),\n",
    "          alpha = 0.4,\n",
    "          s = 25)\n",
    "A.set_ylabel('LDA Probability')\n",
    "A.set_xlabel('Benchmark LR')\n",
    "#plt.suptitle('Prognosis of metastasis risk based on features available at presentation', fontsize=20)\n",
    "\n",
    "B.scatter(clf_LR_bm.predict_proba(benchmarkDF.loc[X_test.index,:])[:,1],\n",
    "          clf_LR.predict_proba(X_test)[:,1],\n",
    "          color = y_test.replace({'n1':'red', 'n0': 'blue', 'NaN':'grey'}),\n",
    "          alpha = 0.5,\n",
    "          s = 25)\n",
    "A.set_ylim(0,1)\n",
    "A.set_xlim(0,1)\n",
    "B.set_ylabel('Model Probability of Metastasis')\n",
    "B.set_xlabel('Benchmark Probability')\n",
    "B.set_ylim(0,1)\n",
    "B.set_xlim(0,1)\n",
    "#B.legend()\n",
    "#bench_fig.title(\"Prediction of Metastasis\")\n",
    "plt.show\n",
    "bench_fig.savefig('Figures/model_benchmark_comparison_train_test.png')"
   ]
  },
  {
   "cell_type": "code",
   "execution_count": null,
   "metadata": {
    "collapsed": false
   },
   "outputs": [],
   "source": [
    "bench_fig = plt.figure(figsize=(15,5))\n",
    "A= bench_fig.add_subplot(1,2,1)\n",
    "B = bench_fig.add_subplot(1,2,2)\n",
    "A.scatter(benchmarkDF.loc[X_train.index,'gleason'],\n",
    "          clf_LR.predict_proba(X_train)[:,1],\n",
    "          color = y_train.replace({'n1':'red', 'n0': 'blue', 'NaN':'grey'}),\n",
    "          alpha = 0.4,\n",
    "          s = 25)\n",
    "A.set_xlabel('Gleason')\n",
    "A.set_ylabel('Model Probability of Metastasis')\n",
    "#plt.suptitle('Prognosis of metastasis risk based on features available at presentation', fontsize=20)\n",
    "\n",
    "B.scatter(benchmarkDF.loc[X_test.index,'gleason'],\n",
    "          clf_LR.predict_proba(X_test)[:,1],\n",
    "          color = y_test.replace({'n1':'red', 'n0': 'blue', 'NaN':'grey'}),\n",
    "          alpha = 0.5,\n",
    "          s = 25)\n",
    "A.set_ylim(0,1)\n",
    "#A.set_xlim(0,1)\n",
    "B.set_ylabel('Model Probability of Metastasis')\n",
    "B.set_xlabel('Gleason')\n",
    "B.set_ylim(0,1)\n",
    "B.set_xlim(5,11)\n",
    "#B.legend()\n",
    "#bench_fig.title(\"Prediction of Metastasis\")\n",
    "plt.show\n",
    "bench_fig.savefig('Figures/LDAbyGleason.png')"
   ]
  },
  {
   "cell_type": "code",
   "execution_count": null,
   "metadata": {
    "collapsed": false,
    "scrolled": false
   },
   "outputs": [],
   "source": [
    "\n",
    "print(clf_LR)\n",
    "print('\\nF beta: ', fbeta_score(y_test, clf_LR.predict(X_test), pos_label='n1',beta=2))\n",
    "print('\\nMCC: ',matthews_corrcoef(y_test, clf_LR.predict(X_test)),\"\\n\")\n",
    "print(classification_report(y_test, clf_LR.predict(X_test), labels = ['n0','n1']))\n",
    "print('\\nLogLoss: ', log_loss(y_test.replace({'n0':0, 'n1':1}), \n",
    "         clf_LR.predict_proba(X_test)[:,1]))"
   ]
  },
  {
   "cell_type": "code",
   "execution_count": null,
   "metadata": {
    "collapsed": false
   },
   "outputs": [],
   "source": [
    "clf_LR.coef_"
   ]
  },
  {
   "cell_type": "code",
   "execution_count": null,
   "metadata": {
    "collapsed": false
   },
   "outputs": [],
   "source": [
    "X_train.columns"
   ]
  },
  {
   "cell_type": "code",
   "execution_count": null,
   "metadata": {
    "collapsed": false
   },
   "outputs": [],
   "source": [
    "clf_LR"
   ]
  },
  {
   "cell_type": "code",
   "execution_count": null,
   "metadata": {
    "collapsed": false,
    "scrolled": true
   },
   "outputs": [],
   "source": [
    "clf_LR.C_"
   ]
  },
  {
   "cell_type": "code",
   "execution_count": null,
   "metadata": {
    "collapsed": true
   },
   "outputs": [],
   "source": []
  }
 ],
 "metadata": {
  "kernelspec": {
   "display_name": "Python 3",
   "language": "python",
   "name": "python3"
  },
  "language_info": {
   "codemirror_mode": {
    "name": "ipython",
    "version": 3
   },
   "file_extension": ".py",
   "mimetype": "text/x-python",
   "name": "python",
   "nbconvert_exporter": "python",
   "pygments_lexer": "ipython3",
   "version": "3.5.1"
  }
 },
 "nbformat": 4,
 "nbformat_minor": 0
}
