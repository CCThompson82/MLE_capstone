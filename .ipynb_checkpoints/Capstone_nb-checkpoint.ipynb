{
 "cells": [
  {
   "cell_type": "markdown",
   "metadata": {},
   "source": [
    "\n",
    "# Data Input\n",
    "\n",
    "The datasets used in this project are available from ['The Cancer Genome Atlas' (TCGA)](www.http://cancergenome.nih.gov/) consortium.  Clinical and RNA-seq gene count data sets can be downloaded via a provided data portal, or using an R package called [TCGA2STAT](https://cran.r-project.org/web/packages/TCGA2STAT/index.html).  The R script used to download the data sets for this project and write files locally in [feather](https://github.com/wesm/feather)  format are available in the project repository [here](https://github.com/CCThompson82/MLE_capstone/tree/master/Dataset_setup).  Datasets are also stored in this project's repository [here](https://github.com/CCThompson82/MLE_capstone/tree/master/feather_files).  The R script is not necessary for dataset download, but can be run locally to obtain the most up to date clinical information from TCGA.  "
   ]
  },
  {
   "cell_type": "code",
   "execution_count": 1,
   "metadata": {
    "collapsed": false,
    "scrolled": true
   },
   "outputs": [
    {
     "name": "stdout",
     "output_type": "stream",
     "text": [
      "Clinical data set imported!\n",
      "Features: 21 \n",
      "Patients: 499\n",
      "\n",
      " The following features do not provide any information: \n",
      " ['Composite.Element.REF' 'ethnicity' 'gender' 'pathologicstage'\n",
      " 'pathologyMstage' 'tumortissuesite'] \n",
      "\n",
      "Variables that are not known at initial diagnosis: \n",
      " ['daystodeath' 'daystolastfollowup' 'daystopsa' 'histologicaltype'\n",
      " 'numberoflymphnodes' 'pathologyTstage' 'radiationtherapy' 'residualtumor'\n",
      " 'vitalstatus'] \n",
      "\n",
      "Variables that are known at the time of diagnosis:\n",
      " ['clinical_index' 'dateofinitialpathologicdiagnosis' 'gleasonscore'\n",
      " 'pathologyNstage' 'psavalue' 'race' 'yearstobirth']\n",
      "\n",
      "\n",
      "Gene Counts data set imported!\n",
      "Features: 20501 \n",
      "Patients: 497\n",
      "\n",
      "\n",
      "Transforming gene counts to transcript per million (TPM)\n",
      "\n",
      "Transformation Successful!\n",
      "\n",
      "497 Gene count estimate profiles have been transformed from gene counts to transcripts per million reads (TPM)\n"
     ]
    }
   ],
   "source": [
    "%run -i Dataset_cleanup/arrange_DF.py"
   ]
  },
  {
   "cell_type": "markdown",
   "metadata": {},
   "source": [
    "# Data Exploration\n",
    "## Clinical Information and metastasis label\n",
    "There is missing clinical data in many of the features, including what will become the outcome label ('pathologyNstage' - metastasis state).  The series **'y_all'** is the full list of pathologyNstage, where 'n1' represents metastasis, and 'n0' represents no metastasis observed to date.  Some observations have no metastasis state recorded and are represented by NaN in y_all.  These are removed for the trimmed **'y'** series.  "
   ]
  },
  {
   "cell_type": "code",
   "execution_count": 2,
   "metadata": {
    "collapsed": true
   },
   "outputs": [],
   "source": [
    "import matplotlib.pyplot as plt\n",
    "%matplotlib inline"
   ]
  },
  {
   "cell_type": "code",
   "execution_count": 3,
   "metadata": {
    "collapsed": false
   },
   "outputs": [
    {
     "data": {
      "image/png": "[encoded data removed]",
      "text/plain": [
       "<matplotlib.figure.Figure at 0x1130ebd68>"
      ]
     },
     "metadata": {},
     "output_type": "display_data"
    }
   ],
   "source": [
    "D = (('n0', y_all[y_all =='n0'].shape[0]), \n",
    "     ('n1', y_all[y_all =='n1'].shape[0]), \n",
    "     ('missing' , y_all[y_all.isnull()].shape[0]))\n",
    "exp_fig = plt.figure(figsize=(5 , 5))\n",
    "A = exp_fig.add_subplot(1,1,1)\n",
    "ind = A.bar(range(0,3), height= [D[0][1], D[1][1], D[2][1]], align='center', color = 'grey')\n",
    "A.set_xticks(range(0,3))\n",
    "A.set_ylabel('Frequency', fontsize=16)\n",
    "A.set_xlabel('Metastasis state', fontsize=16)\n",
    "A.set_ylim(0,400)\n",
    "A.set_xticklabels([D[0][0], D[1][0], D[2][0]])  #Must be a better way to do this as tuples (D, in this case) are not ordered?\n",
    "ep = plt.show\n",
    "exp_fig.savefig('Figures/LabelCount.png')"
   ]
  },
  {
   "cell_type": "markdown",
   "metadata": {},
   "source": [
    "#### Gleason Score versus Metastasis analysis\n",
    "The Gleason score is the gold-standard diagnostic test for cancer severity, but is not highly correlative with metastatic disease.  "
   ]
  },
  {
   "cell_type": "code",
   "execution_count": 4,
   "metadata": {
    "collapsed": false
   },
   "outputs": [
    {
     "data": {
      "text/plain": [
       "False"
      ]
     },
     "execution_count": 4,
     "metadata": {},
     "output_type": "execute_result"
    }
   ],
   "source": [
    "clinical['gleasonscore'] = pd.to_numeric(clinical['gleasonscore'], errors= 'coerce')\n",
    "clinical['gleasonscore'].isnull().any()"
   ]
  },
  {
   "cell_type": "code",
   "execution_count": 5,
   "metadata": {
    "collapsed": false
   },
   "outputs": [
    {
     "data": {
      "image/png": "[encoded data removed]",
      "text/plain": [
       "<matplotlib.figure.Figure at 0x113186780>"
      ]
     },
     "metadata": {},
     "output_type": "display_data"
    }
   ],
   "source": [
    "GS_hist = plt.figure(figsize=(5,5))\n",
    "A = GS_hist.add_subplot(1,1,1)\n",
    "sub = (('n1', ))\n",
    "\n",
    "subs = [clinical.loc[y_all[y_all == 'n0'].index]['gleasonscore'],\n",
    "        clinical.loc[y_all[y_all == 'n1'].index]['gleasonscore'],\n",
    "        clinical.loc[y_all[y_all.isnull()].index]['gleasonscore']]\n",
    "\n",
    "bins = [5.99, 6.99, 7.99, 8.99, 9.99, 10.99]\n",
    "A.hist(subs, bins, label =['n0', 'n1', 'unknown'], color = ['blue','red','grey'], stacked = True)\n",
    "A.set_ylim(0,275)\n",
    "A.set_ylabel('Count', fontsize=16)\n",
    "A.set_xlabel('Gleason Score', fontsize =16)\n",
    "A.legend()\n",
    "plt.show\n",
    "GS_hist.savefig('Figures/GleasonHist.png')"
   ]
  },
  {
   "cell_type": "markdown",
   "metadata": {},
   "source": [
    "It appears that no metastases are recorded in those specimens graded at a Gleason score of 6.  This represents an opportunity to replace the missing data label with the most likely pathology state, n0, to more efficiently use the small data set.  "
   ]
  },
  {
   "cell_type": "code",
   "execution_count": 6,
   "metadata": {
    "collapsed": false
   },
   "outputs": [
    {
     "data": {
      "text/plain": [
       "{'TCGA-2A-A8VO',\n",
       " 'TCGA-2A-AAYO',\n",
       " 'TCGA-CH-5738',\n",
       " 'TCGA-G9-6342',\n",
       " 'TCGA-G9-6347',\n",
       " 'TCGA-G9-6371',\n",
       " 'TCGA-G9-7509',\n",
       " 'TCGA-H9-A6BX',\n",
       " 'TCGA-HC-7075',\n",
       " 'TCGA-HC-7077',\n",
       " 'TCGA-HC-8213',\n",
       " 'TCGA-HC-8259',\n",
       " 'TCGA-J4-A67Q',\n",
       " 'TCGA-J4-A83K',\n",
       " 'TCGA-J9-A8CN',\n",
       " 'TCGA-M7-A720',\n",
       " 'TCGA-V1-A8WN',\n",
       " 'TCGA-V1-A8WS',\n",
       " 'TCGA-V1-A9OF',\n",
       " 'TCGA-V1-A9OQ',\n",
       " 'TCGA-V1-A9OT',\n",
       " 'TCGA-XJ-A9DQ'}"
      ]
     },
     "execution_count": 6,
     "metadata": {},
     "output_type": "execute_result"
    }
   ],
   "source": [
    "\"\"\"Define the indices where gleasonscore == 6 and pathologyNstage is null\"\"\"\n",
    "set(y_all[y_all.isnull()].index).intersection(list(clinical[clinical['gleasonscore'] == 6].index))"
   ]
  },
  {
   "cell_type": "code",
   "execution_count": 7,
   "metadata": {
    "collapsed": false
   },
   "outputs": [
    {
     "name": "stderr",
     "output_type": "stream",
     "text": [
      "/Users/ccthomps/anaconda/lib/python3.5/site-packages/pandas/core/indexing.py:132: SettingWithCopyWarning: \n",
      "A value is trying to be set on a copy of a slice from a DataFrame\n",
      "\n",
      "See the caveats in the documentation: http://pandas.pydata.org/pandas-docs/stable/indexing.html#indexing-view-versus-copy\n",
      "  self._setitem_with_indexer(indexer, value)\n"
     ]
    }
   ],
   "source": [
    "y_all.loc[set(y_all[y_all.isnull()].index).intersection(list(clinical[clinical['gleasonscore'] == 6].index))] = 'n0'"
   ]
  },
  {
   "cell_type": "code",
   "execution_count": 8,
   "metadata": {
    "collapsed": false
   },
   "outputs": [
    {
     "data": {
      "image/png": "[encoded data removed]",
      "text/plain": [
       "<matplotlib.figure.Figure at 0x115e73550>"
      ]
     },
     "metadata": {},
     "output_type": "display_data"
    }
   ],
   "source": [
    "GS_hist = plt.figure(figsize=(5,5))\n",
    "A = GS_hist.add_subplot(1,1,1)\n",
    "sub = (('n1', ))\n",
    "\n",
    "subs = [clinical.loc[y_all[y_all == 'n0'].index]['gleasonscore'],\n",
    "        clinical.loc[y_all[y_all == 'n1'].index]['gleasonscore'],\n",
    "        clinical.loc[y_all[y_all.isnull()].index]['gleasonscore']]\n",
    "\n",
    "bins = [5.99, 6.99, 7.99, 8.99, 9.99, 10.99]\n",
    "A.hist(subs, bins, label =['n0', 'n1', 'unknown'], color = ['blue','red','grey'], stacked = True)\n",
    "A.set_ylim(0,275)\n",
    "A.set_ylabel('Count', fontsize=16)\n",
    "A.set_xlabel('Gleason Score', fontsize =16)\n",
    "A.legend()\n",
    "plt.show\n",
    "GS_hist.savefig('Figures/GleasonHist2.png')"
   ]
  },
  {
   "cell_type": "markdown",
   "metadata": {},
   "source": [
    "## Gene Activation (Gene counts) Dataset\n",
    "The starting dataset, **'X_all'**, includes the transformed transcript per million (TPM) estimates for all RNA-seq profiles.  However some of the observations in this set do not have corresponding y_labels, as the clinical data set contains missing information.\n",
    "\n",
    "Therefore X_all was trimmed to include only those observations where a finite y label exists, to yield **'X'**.  "
   ]
  },
  {
   "cell_type": "code",
   "execution_count": 9,
   "metadata": {
    "collapsed": false
   },
   "outputs": [
    {
     "name": "stdout",
     "output_type": "stream",
     "text": [
      "Total observations in original dataset: 499\n",
      "\n",
      "Observations with metastasis label: 448\n",
      "Unlabeled observations (removed:) 51\n"
     ]
    }
   ],
   "source": [
    "print(\"Total observations in original dataset:\",clinical.shape[0])\n",
    "\n",
    "not_labeled = y_all[y_all.isnull()] \n",
    "y = y_all[y_all.notnull()]\n",
    "\n",
    "print(\"\\nObservations with metastasis label:\",y.shape[0])\n",
    "print(\"Unlabeled observations (removed:)\",not_labeled.shape[0])\n"
   ]
  },
  {
   "cell_type": "code",
   "execution_count": 10,
   "metadata": {
    "collapsed": false
   },
   "outputs": [
    {
     "name": "stdout",
     "output_type": "stream",
     "text": [
      "X dimensions: (446, 20501) \n",
      "y dimensions: (446,)\n"
     ]
    }
   ],
   "source": [
    "\"\"\"Limit X to only observations where a target label is present.\"\"\"\n",
    "X = X_all.loc[set(y.index).intersection(X_all.index)]  #Only observations that also have a known metastasis state are kept.\n",
    "y = y.loc[set(X.index).intersection(y.index)]\n",
    "print(\"X dimensions:\",X.shape,\"\\ny dimensions:\",y.shape)"
   ]
  },
  {
   "cell_type": "code",
   "execution_count": 11,
   "metadata": {
    "collapsed": false
   },
   "outputs": [
    {
     "name": "stdout",
     "output_type": "stream",
     "text": [
      "Dimensions of unlabeled dataset: (51, 20501)\n"
     ]
    }
   ],
   "source": [
    "X_no_y = X_all.loc[list(not_labeled.index)]\n",
    "print(\"Dimensions of unlabeled dataset:\",X_no_y.shape)"
   ]
  },
  {
   "cell_type": "code",
   "execution_count": 12,
   "metadata": {
    "collapsed": false,
    "scrolled": false
   },
   "outputs": [
    {
     "data": {
      "text/plain": [
       "False"
      ]
     },
     "execution_count": 12,
     "metadata": {},
     "output_type": "execute_result"
    }
   ],
   "source": [
    "\"\"\"Check to determine if any clinical information is missing\"\"\"\n",
    "X.isnull().values.any()"
   ]
  },
  {
   "cell_type": "markdown",
   "metadata": {},
   "source": [
    "## Data Visualization"
   ]
  },
  {
   "cell_type": "code",
   "execution_count": 13,
   "metadata": {
    "collapsed": false
   },
   "outputs": [],
   "source": [
    "gleason = clinical['gleasonscore']\n",
    "#print(gleason.shape)\n",
    "age = pd.to_numeric(clinical['yearstobirth'], errors = 'coerce')\n",
    "age.fillna(value = np.mean(age), inplace=True)\n",
    "psa = pd.to_numeric(clinical['psavalue'], errors= 'coerce')\n",
    "psa.fillna(value = np.mean(psa), inplace =True)\n",
    "#gleason = gleason.loc[y.index]\n",
    "\n",
    "clinicalDF_all = pd.DataFrame({'gleason': gleason,\n",
    "                            'age':age ,\n",
    "                            'psa' : psa,\n",
    "                            'y' : y_all}, index=X_all.index)\n",
    "clinicalDF = clinicalDF_all.loc[y.index, :]"
   ]
  },
  {
   "cell_type": "code",
   "execution_count": 14,
   "metadata": {
    "collapsed": false
   },
   "outputs": [],
   "source": [
    "clinicalDF.drop(['y'], axis=1, inplace = True)"
   ]
  },
  {
   "cell_type": "code",
   "execution_count": 15,
   "metadata": {
    "collapsed": false
   },
   "outputs": [],
   "source": [
    "clinicalDF = clinicalDF.reindex(y.index)"
   ]
  },
  {
   "cell_type": "code",
   "execution_count": 16,
   "metadata": {
    "collapsed": false,
    "scrolled": true
   },
   "outputs": [
    {
     "data": {
      "image/png": "[encoded data removed]",
      "text/plain": [
       "<matplotlib.figure.Figure at 0x1160d5f28>"
      ]
     },
     "metadata": {},
     "output_type": "display_data"
    }
   ],
   "source": [
    "sm = pd.scatter_matrix(clinicalDF, \n",
    "                       alpha=0.25, \n",
    "                       figsize= (10,10), \n",
    "                       diagonal = 'kde', \n",
    "                       c = y.replace({'n1': 'red','n0':'blue'}), \n",
    "                       s = 125)\n",
    "\n",
    "plt.savefig(\"Figures/ClinScatterMatrix.png\")"
   ]
  },
  {
   "cell_type": "code",
   "execution_count": 17,
   "metadata": {
    "collapsed": false
   },
   "outputs": [
    {
     "name": "stderr",
     "output_type": "stream",
     "text": [
      "/Users/ccthomps/anaconda/lib/python3.5/site-packages/sklearn/feature_selection/univariate_selection.py:113: UserWarning: Features [ 1595  1815  2267  4324  4341  4342  4343  4344  4345  4346  4347  4779\n",
      "  4780  4781  4782  4787  4790  4791  4794  4795  4801  4803  5259  6032\n",
      "  6776  6780  6783  7445  7551  7632  7633  7634  7635  7636  7732  9275\n",
      "  9277  9287  9291  9419  9421  9423  9495 10092 11101 11929 12028 12488\n",
      " 12527 12593 12606 13749 13963 14015 14129 14130 14131 14132 14726 14727\n",
      " 14729 15109 15111 15112 16536 16538 16539 16541 16542 16543 16545 16546\n",
      " 16547 16548 16549 16550 16576 16605 16608 16648 16668 16669 16670 16671\n",
      " 16672 16673 16674 16675 16676 16677 16678 16679 16680 16681 16682 16683\n",
      " 16684 16685 16686 16687 16688 16689 16690 16691 16692 16693 16694 16695\n",
      " 16696 16697 16698 16699 16700 16701 16702 16703 16704 16705 16706 16707\n",
      " 16708 16709 16710 16711 16712 16713 16714 16715 16716 16717 16718 16720\n",
      " 16721 16722 16723 16724 16725 16726 16728 16729 16730 16731 16732 16733\n",
      " 16734 16735 16736 16737 16738 16739 16740 16741 16742 16743 16745 16746\n",
      " 16747 16748 16749 16750 16751 16752 16753 16754 16755 16756 16757 16759\n",
      " 16760 16761 16762 16763 16764 16766 16767 16769 16770 16771 16772 16773\n",
      " 16774 16775 16776 16777 16778 16779 16780 16781 16782 16783 16786 16788\n",
      " 16789 16790 16791 16792 16793 16794 16796 16797 16798 16801 16802 16803\n",
      " 16804 16805 16806 16807 16808 16809 16810 16811 16812 16813 16814 16815\n",
      " 16816 16817 16818 16819 16820 16821 16822 16823 16824 16825 16826 16827\n",
      " 16828 16829 16830 16831 16832 16833 16834 16835 16836 16837 16838 16839\n",
      " 16840 16841 16842 16843 16844 16845 16846 16847 16848 16849 16850 16851\n",
      " 16852 16853 16854 16855 16856 16857 16858 16859 16860 16861 16862 16863\n",
      " 16864 16865 16866 16867 16868 16869 16870 16871 16873 16874 16875 16876\n",
      " 16877 16878 16879 16880 16881 16882 16884 16885 16886 16887 16888 16889\n",
      " 16891 16892 16893 16895 16896 17041 17045 17127 17466 17871 18589 18788\n",
      " 18800 18873 18879 18880 18882 18886 18887 18964 19420 19421 19422 19641] are constant.\n",
      "  UserWarning)\n"
     ]
    }
   ],
   "source": [
    "from sklearn.feature_selection import SelectKBest, f_classif\n",
    "K_selector = SelectKBest(f_classif, k = 'all') # using k=all here and will filter based on F-stat later.  \n",
    "K = K_selector.fit(X, y)\n",
    "K_df = pd.DataFrame({'Gene':X.columns, 'F_score':K.scores_})\n",
    "K_df.dropna(inplace=True)"
   ]
  },
  {
   "cell_type": "code",
   "execution_count": 18,
   "metadata": {
    "collapsed": false
   },
   "outputs": [
    {
     "data": {
      "image/png": "[encoded data removed]",
      "text/plain": [
       "<matplotlib.figure.Figure at 0x12950c588>"
      ]
     },
     "metadata": {},
     "output_type": "display_data"
    }
   ],
   "source": [
    "F_fig = plt.figure(figsize=(15,5))\n",
    "A = F_fig.add_subplot(1,2,1)\n",
    "A.hist(K_df['F_score'], bins=range(0,45,1), facecolor='green')\n",
    "#A.set_yscale('log')\n",
    "A.set_ylabel('Count', fontsize=16)\n",
    "A.set_xlabel(\"F-statistic\", fontsize=16)\n",
    "F_fig.suptitle(\"Distribution of F-statistics for metatastasis state group comparison of gene expression\", fontsize = 18)\n",
    "B = F_fig.add_subplot(1,2,2)\n",
    "B.hist(K_df['F_score'], bins=range(0,45,1), facecolor='green')\n",
    "B.set_yscale('log')\n",
    "B.set_ylabel('Count', fontsize=16)\n",
    "B.set_xlabel(\"F-statistic\", fontsize=16)\n",
    "#B.set_title(\"Distribution of F-statistics for metatastasis state group comparison of gene expression\", fontsize = 18)\n",
    "plt.show()\n",
    "F_fig.savefig(\"Figures/FDist.png\")"
   ]
  },
  {
   "cell_type": "markdown",
   "metadata": {},
   "source": [
    "# Analysis\n",
    "## Prepare for Analysis\n",
    "### Generate Scoring Functions"
   ]
  },
  {
   "cell_type": "code",
   "execution_count": 19,
   "metadata": {
    "collapsed": false
   },
   "outputs": [],
   "source": [
    "from sklearn.metrics import matthews_corrcoef, fbeta_score, classification_report, log_loss\n",
    "from sklearn.model_selection import cross_val_score"
   ]
  },
  {
   "cell_type": "code",
   "execution_count": 20,
   "metadata": {
    "collapsed": false
   },
   "outputs": [],
   "source": [
    "\"\"\"Scorers needed throughout code:\"\"\"\n",
    "from sklearn.metrics import make_scorer\n",
    "LL_scorer = make_scorer(log_loss, greater_is_better=False, needs_proba=True, needs_threshold=False)\n",
    "MCC_scorer = make_scorer(matthews_corrcoef, greater_is_better=True, needs_proba=False, needs_threshold=False)\n",
    "fbeta_scorer = make_scorer(fbeta_score, greater_is_better=True, needs_proba=False, needs_threshold=False, pos_label='n1', beta = 2)"
   ]
  },
  {
   "cell_type": "markdown",
   "metadata": {},
   "source": [
    "### Import Logistic Regression Algorithms"
   ]
  },
  {
   "cell_type": "code",
   "execution_count": 21,
   "metadata": {
    "collapsed": true
   },
   "outputs": [],
   "source": [
    "from sklearn.linear_model import LogisticRegression, LogisticRegressionCV"
   ]
  },
  {
   "cell_type": "markdown",
   "metadata": {},
   "source": [
    "### Set Seed and Folds for Cross Validation"
   ]
  },
  {
   "cell_type": "code",
   "execution_count": 22,
   "metadata": {
    "collapsed": true
   },
   "outputs": [],
   "source": [
    "seed = 1\n",
    "folds = 4"
   ]
  },
  {
   "cell_type": "markdown",
   "metadata": {},
   "source": [
    "### Handles for Graph legends"
   ]
  },
  {
   "cell_type": "code",
   "execution_count": 23,
   "metadata": {
    "collapsed": true
   },
   "outputs": [],
   "source": [
    "import matplotlib.patches as mpatches\n",
    "blue = mpatches.Patch(color ='blue', label ='n0')\n",
    "red = mpatches.Patch(color='red', label = 'n1')"
   ]
  },
  {
   "cell_type": "markdown",
   "metadata": {},
   "source": [
    "### Train Test Split"
   ]
  },
  {
   "cell_type": "code",
   "execution_count": 24,
   "metadata": {
    "collapsed": true
   },
   "outputs": [],
   "source": [
    "from sklearn.model_selection import train_test_split\n",
    "train_k = round(len(y)*0.70)\n",
    "test_k = len(y) - train_k"
   ]
  },
  {
   "cell_type": "code",
   "execution_count": 25,
   "metadata": {
    "collapsed": true
   },
   "outputs": [],
   "source": [
    "\"\"\"Split samples into train and test sets, stratified by Gleason score\"\"\"\n",
    "X_train, X_test, y_train, y_test = train_test_split(X, y, \n",
    "                                                    test_size= test_k, \n",
    "                                                    train_size = train_k,\n",
    "                                                    random_state = seed,\n",
    "                                                    stratify = clinicalDF['gleason'])"
   ]
  },
  {
   "cell_type": "code",
   "execution_count": 26,
   "metadata": {
    "collapsed": false
   },
   "outputs": [],
   "source": [
    "clinicalDF_train = clinicalDF.loc[X_train.index,:]\n",
    "clinicalDF_test = clinicalDF.loc[X_test.index,:]"
   ]
  },
  {
   "cell_type": "markdown",
   "metadata": {},
   "source": [
    "## Benchmark"
   ]
  },
  {
   "cell_type": "markdown",
   "metadata": {},
   "source": [
    "### Clinical Information Benchmark"
   ]
  },
  {
   "cell_type": "code",
   "execution_count": 27,
   "metadata": {
    "collapsed": false
   },
   "outputs": [
    {
     "data": {
      "text/plain": [
       "LogisticRegression(C=1, class_weight='balanced', dual=False,\n",
       "          fit_intercept=True, intercept_scaling=1, max_iter=100,\n",
       "          multi_class='ovr', n_jobs=1, penalty='l2', random_state=123,\n",
       "          solver='liblinear', tol=0.0001, verbose=0, warm_start=False)"
      ]
     },
     "execution_count": 27,
     "metadata": {},
     "output_type": "execute_result"
    }
   ],
   "source": [
    "clf_LR_clin = LogisticRegression(penalty='l2',\n",
    "                              dual=False,\n",
    "                              tol=0.0001,\n",
    "                              C=1,\n",
    "                              fit_intercept=True,\n",
    "                              intercept_scaling=1,\n",
    "                              class_weight='balanced',\n",
    "                              random_state=123,\n",
    "                              solver='liblinear',\n",
    "                              max_iter=100,\n",
    "                              multi_class='ovr',\n",
    "                              verbose=0,\n",
    "                              warm_start=False,\n",
    "                              n_jobs=1)\n",
    "\n",
    "clf_LR_clin.fit(clinicalDF_train, y_train)  #use training set for model learning"
   ]
  },
  {
   "cell_type": "code",
   "execution_count": 28,
   "metadata": {
    "collapsed": false,
    "scrolled": true
   },
   "outputs": [
    {
     "data": {
      "image/png": "[encoded data removed]",
      "text/plain": [
       "<matplotlib.figure.Figure at 0x127e63320>"
      ]
     },
     "metadata": {},
     "output_type": "display_data"
    }
   ],
   "source": [
    "clf_LR_clin = LogisticRegression(penalty='l2',\n",
    "                              dual=False,\n",
    "                              tol=0.0001,\n",
    "                              C=1,\n",
    "                              fit_intercept=True,\n",
    "                              intercept_scaling=1,\n",
    "                              class_weight='balanced',\n",
    "                              random_state=123,\n",
    "                              solver='liblinear',\n",
    "                              max_iter=100,\n",
    "                              multi_class='ovr',\n",
    "                              verbose=0,\n",
    "                              warm_start=False,\n",
    "                              n_jobs=1)\n",
    "\n",
    "clf_LR_clin.fit(clinicalDF_train, y_train)  #use training set for model learning\n",
    "\n",
    "bench_fig = plt.figure(figsize=(15,5))\n",
    "A= bench_fig.add_subplot(1,2,1)\n",
    "B = bench_fig.add_subplot(1,2,2)\n",
    "A.scatter(clinicalDF_train.loc[:,'gleason'], \n",
    "          clf_LR_clin.predict_proba(clinicalDF_train)[:,1], \n",
    "          color = y_train.replace({'n1':'red', 'n0': 'blue', 'NaN':'grey'}),\n",
    "          alpha = 0.3,\n",
    "          s = 25)\n",
    "A.set_ylabel('Benchmark model probability of metastasis')\n",
    "A.set_ylim(0,1)\n",
    "B.set_ylim(0,1)\n",
    "A.set_xlabel('Gleason')\n",
    "plt.suptitle('Prognosis of metastasis risk based on features available at presentation', fontsize=20)\n",
    "A.set_title('Training Set')\n",
    "B.set_title('Validation Set')\n",
    "B.scatter(clinicalDF_test.loc[:,'gleason'],\n",
    "          clf_LR_clin.predict_proba(clinicalDF_test)[:,1],\n",
    "          color = y_test.replace({'n1':'red', 'n0': 'blue', 'NaN':'grey'}),\n",
    "          alpha = 0.5,\n",
    "          s = 25)\n",
    "B.set_xlabel('Gleason')\n",
    "B.set_ylabel('Benchmark model probability of metastasis')\n",
    "bench_fig.legend(labels = ['n0', 'n1'], handles = [blue, red], loc = 5)\n",
    "bench_fig.suptitle(\"Benchmark Model\", fontsize=20)\n",
    "plt.show\n",
    "bench_fig.savefig('Figures/benchmark.png')"
   ]
  },
  {
   "cell_type": "code",
   "execution_count": 29,
   "metadata": {
    "collapsed": false,
    "scrolled": true
   },
   "outputs": [
    {
     "name": "stdout",
     "output_type": "stream",
     "text": [
      "   coefficient features\n",
      "0    -0.075655      age\n",
      "1     0.920022  gleason\n",
      "2     0.050437      psa\n"
     ]
    }
   ],
   "source": [
    "print(pd.DataFrame({'features':clinicalDF.columns, 'coefficient': clf_LR_clin.coef_[0]}))"
   ]
  },
  {
   "cell_type": "code",
   "execution_count": 30,
   "metadata": {
    "collapsed": false
   },
   "outputs": [
    {
     "name": "stdout",
     "output_type": "stream",
     "text": [
      "LogisticRegression(C=1, class_weight='balanced', dual=False,\n",
      "          fit_intercept=True, intercept_scaling=1, max_iter=100,\n",
      "          multi_class='ovr', n_jobs=1, penalty='l2', random_state=123,\n",
      "          solver='liblinear', tol=0.0001, verbose=0, warm_start=False)\n",
      "\n",
      "Null F beta:  0.623188405797\n",
      "\n",
      "MCC:  0.370504046511 \n",
      "\n",
      "             precision    recall  f1-score   support\n",
      "\n",
      "         n0       0.93      0.71      0.80       255\n",
      "         n1       0.37      0.75      0.49        57\n",
      "\n",
      "avg / total       0.83      0.72      0.75       312\n",
      "\n",
      "\n",
      "LogLoss:  0.572948080893\n"
     ]
    }
   ],
   "source": [
    "\"Benchmark Performance on Train dataset\"\n",
    "print(clf_LR_clin)\n",
    "print('\\nNull F beta: ', fbeta_score(y_train, clf_LR_clin.predict(clinicalDF_train), pos_label='n1',beta=2))\n",
    "print('\\nMCC: ',matthews_corrcoef(y_train, clf_LR_clin.predict(clinicalDF_train)),\"\\n\")\n",
    "print(classification_report(y_train, clf_LR_clin.predict(clinicalDF_train), labels = ['n0','n1']))\n",
    "print('\\nLogLoss: ', log_loss(y_train.replace({'n0':0, 'n1':1}), \n",
    "         clf_LR_clin.predict_proba(clinicalDF_train)[:,1]))\n",
    "\n",
    "training_stat = pd.DataFrame({'F2': fbeta_score(y_train, clf_LR_clin.predict(clinicalDF_train), pos_label='n1',beta=2),\n",
    "                            'MCC': matthews_corrcoef(y_train, clf_LR_clin.predict(clinicalDF_train)),\n",
    "                            'LogLoss':log_loss(y_train.replace({'n0':0, 'n1':1}), \n",
    "                                      clf_LR_clin.predict_proba(clinicalDF_train)[:,1])}, index = ['clinical_only'])"
   ]
  },
  {
   "cell_type": "code",
   "execution_count": 31,
   "metadata": {
    "collapsed": false,
    "scrolled": true
   },
   "outputs": [
    {
     "name": "stdout",
     "output_type": "stream",
     "text": [
      "LogisticRegression(C=1, class_weight='balanced', dual=False,\n",
      "          fit_intercept=True, intercept_scaling=1, max_iter=100,\n",
      "          multi_class='ovr', n_jobs=1, penalty='l2', random_state=123,\n",
      "          solver='liblinear', tol=0.0001, verbose=0, warm_start=False)\n",
      "\n",
      "Null F beta:  0.555555555556\n",
      "\n",
      "MCC:  0.307482859087 \n",
      "\n",
      "             precision    recall  f1-score   support\n",
      "\n",
      "         n0       0.92      0.71      0.80       112\n",
      "         n1       0.32      0.68      0.43        22\n",
      "\n",
      "avg / total       0.82      0.71      0.74       134\n",
      "\n",
      "\n",
      "LogLoss:  0.59908856683\n"
     ]
    }
   ],
   "source": [
    "\"Benchmark Performance on Test dataset\"\n",
    "print(clf_LR_clin)\n",
    "print('\\nNull F beta: ', fbeta_score(y_test, clf_LR_clin.predict(clinicalDF_test), pos_label='n1',beta=2))\n",
    "print('\\nMCC: ',matthews_corrcoef(y_test, clf_LR_clin.predict(clinicalDF_test)),\"\\n\")\n",
    "print(classification_report(y_test, clf_LR_clin.predict(clinicalDF_test), labels = ['n0','n1']))\n",
    "print('\\nLogLoss: ', log_loss(y_test.replace({'n0':0, 'n1':1}), \n",
    "         clf_LR_clin.predict_proba(clinicalDF_test)[:,1]))\n",
    "\n",
    "metric_stat = pd.DataFrame({'F2': fbeta_score(y_test, clf_LR_clin.predict(clinicalDF_test), pos_label='n1',beta=2),\n",
    "                            'MCC': matthews_corrcoef(y_test, clf_LR_clin.predict(clinicalDF_test)),\n",
    "                            'LogLoss':log_loss(y_test.replace({'n0':0, 'n1':1}), \n",
    "                                      clf_LR_clin.predict_proba(clinicalDF_test)[:,1])}, index = ['clinical_only'])"
   ]
  },
  {
   "cell_type": "markdown",
   "metadata": {},
   "source": [
    "## Feature Reduction\n",
    "### Import Functions"
   ]
  },
  {
   "cell_type": "code",
   "execution_count": 32,
   "metadata": {
    "collapsed": true
   },
   "outputs": [],
   "source": [
    "from sklearn.ensemble import RandomForestClassifier\n",
    "from sklearn.preprocessing import StandardScaler\n",
    "from sklearn.decomposition import PCA"
   ]
  },
  {
   "cell_type": "markdown",
   "metadata": {},
   "source": [
    "### Gini Importance Filter"
   ]
  },
  {
   "cell_type": "code",
   "execution_count": 33,
   "metadata": {
    "collapsed": false
   },
   "outputs": [],
   "source": [
    "clf_RF = RandomForestClassifier(n_estimators=1000, \n",
    "                                criterion='gini', \n",
    "                                max_depth=3, \n",
    "                                min_samples_split=30, \n",
    "                                min_samples_leaf=5, \n",
    "                                min_weight_fraction_leaf=0.0, \n",
    "                                max_features= 'auto', \n",
    "                                max_leaf_nodes=None, \n",
    "                                bootstrap=True, \n",
    "                                oob_score=False, \n",
    "                                n_jobs=1, \n",
    "                                random_state=seed, \n",
    "                                verbose=0, \n",
    "                                warm_start=False, \n",
    "                                class_weight='balanced')\n"
   ]
  },
  {
   "cell_type": "code",
   "execution_count": 34,
   "metadata": {
    "collapsed": false
   },
   "outputs": [
    {
     "name": "stdout",
     "output_type": "stream",
     "text": [
      "            Gini\n",
      "ZNRF3   0.003844\n",
      "MAP6D1  0.003290\n",
      "ISY1    0.002606\n",
      "HMGB2   0.002579\n",
      "GLB1L2  0.002502\n"
     ]
    }
   ],
   "source": [
    "clf_RF.fit(X, y)\n",
    "Gini_DF = pd.DataFrame({'Gini' :clf_RF.feature_importances_}, index=X.columns).sort_values(by = ['Gini'], axis = 0, ascending = False)\n",
    "#Gini_DF.reset_index(inplace=True)\n",
    "print(Gini_DF.head())"
   ]
  },
  {
   "cell_type": "code",
   "execution_count": 35,
   "metadata": {
    "collapsed": true
   },
   "outputs": [],
   "source": [
    "\"\"\"Set k number of genes to retain\"\"\"\n",
    "k = 100"
   ]
  },
  {
   "cell_type": "markdown",
   "metadata": {},
   "source": [
    "### Stability Experiment"
   ]
  },
  {
   "cell_type": "code",
   "execution_count": 36,
   "metadata": {
    "collapsed": false
   },
   "outputs": [
    {
     "name": "stdout",
     "output_type": "stream",
     "text": [
      "Number of Consistent (Stable) Genes: 46\n",
      "Number of Consistent (Stable) Genes: 30\n",
      "Number of Consistent (Stable) Genes: 22\n",
      "Number of Consistent (Stable) Genes: 18\n",
      "Number of Consistent (Stable) Genes: 17\n"
     ]
    }
   ],
   "source": [
    "genes = Gini_DF.index[0:k] # gene list from first instance  \n",
    "for x in [5, 54, 543, 5432, 54321] :\n",
    "    clf_RF = RandomForestClassifier(n_estimators=1000, \n",
    "                                criterion='gini', \n",
    "                                max_depth=3, \n",
    "                                min_samples_split=30, \n",
    "                                min_samples_leaf=5, \n",
    "                                min_weight_fraction_leaf=0.0, \n",
    "                                max_features= 'auto', \n",
    "                                max_leaf_nodes=None, \n",
    "                                bootstrap=True, \n",
    "                                oob_score=False, \n",
    "                                n_jobs=1, \n",
    "                                random_state=x, \n",
    "                                verbose=0, \n",
    "                                warm_start=False, \n",
    "                                class_weight='balanced')\n",
    "    clf_RF.fit(X, y)\n",
    "    Gini_DF = pd.DataFrame({'Gini' :clf_RF.feature_importances_}, index=X.columns).sort_values(by = ['Gini'], axis = 0, ascending = False)\n",
    "    genes = set(genes).intersection(Gini_DF.index[0:k])\n",
    "    print('Number of Consistent (Stable) Genes:',len(genes))"
   ]
  },
  {
   "cell_type": "code",
   "execution_count": 37,
   "metadata": {
    "collapsed": false
   },
   "outputs": [],
   "source": [
    "\"\"\"Subset X to include only the k best features from the Gini Importance table\"\"\"\n",
    "X_k = X.loc[:,genes]"
   ]
  },
  {
   "cell_type": "code",
   "execution_count": 41,
   "metadata": {
    "collapsed": false
   },
   "outputs": [
    {
     "data": {
      "image/png": "[encoded data removed]",
      "text/plain": [
       "<matplotlib.figure.Figure at 0x134308e10>"
      ]
     },
     "metadata": {},
     "output_type": "display_data"
    }
   ],
   "source": [
    "\n",
    "fig = plt.figure(figsize=(10,6))\n",
    "for i in range(0,len(X_k.columns),1) :\n",
    "    ax = fig.add_subplot(np.ceil(len(X_k.columns)/5),5,i+1)\n",
    "    df0 = list(X_k.ix[y.loc[y=='n0'].index,i])\n",
    "    df1 = list(X_k.ix[y.loc[y=='n1'].index,i])\n",
    "    data = [df0,df1]\n",
    "    A = ax.boxplot(data, positions = [1,2], vert = False, widths = 0.5, patch_artist=True)\n",
    "    plt.setp(A['boxes'][1], color='red')\n",
    "    plt.setp(A['boxes'][0], color='blue')\n",
    "    plt.setp(A['medians'], color = 'black')\n",
    "    plt.setp(A['whiskers'], color = 'black')\n",
    "    plt.setp(A['fliers'], color = 'black', marker = '.', markersize = 3)\n",
    "    ax.yaxis.set_major_formatter(plt.NullFormatter())\n",
    "    ax.set_xlabel(X_k.columns[i], fontsize=12)\n",
    "    ax.set_xscale('log')\n",
    "fig.tight_layout()\n",
    "fig.legend(labels = ['n0', 'n1'], handles= [blue,red], ncol = 2, loc = 'lower center', bbox_to_anchor = (.945, 1.05))\n",
    "fig.text(-.005, 0.5, 'Metastasis state', ha='center', va='center', fontsize=24,rotation='vertical')\n",
    "fig.text(.5, -.025, 'Transcripts Per Million (TPM)', ha='center', va='center', fontsize=24)\n",
    "fig.savefig('Figures/boxplots.png', dpi =300)\n",
    "plt.show()\n"
   ]
  },
  {
   "cell_type": "markdown",
   "metadata": {
    "collapsed": true
   },
   "source": [
    "### Transform reduced feature dataframe to standard scale"
   ]
  },
  {
   "cell_type": "code",
   "execution_count": null,
   "metadata": {
    "collapsed": false
   },
   "outputs": [],
   "source": [
    "scaler = StandardScaler()\n",
    "Xs = pd.DataFrame(scaler.fit_transform(X_k), columns = X_k.columns, index = X_k.index)\n"
   ]
  },
  {
   "cell_type": "markdown",
   "metadata": {},
   "source": [
    "### PCA transformation\n",
    "#### Train on the scaled feature set"
   ]
  },
  {
   "cell_type": "code",
   "execution_count": null,
   "metadata": {
    "collapsed": true
   },
   "outputs": [],
   "source": [
    "components = 3"
   ]
  },
  {
   "cell_type": "code",
   "execution_count": null,
   "metadata": {
    "collapsed": false
   },
   "outputs": [],
   "source": [
    "pca = PCA(n_components = components, whiten=False)\n",
    "pca.fit(Xs)"
   ]
  },
  {
   "cell_type": "markdown",
   "metadata": {},
   "source": [
    "#### Transform with the trained PCA function"
   ]
  },
  {
   "cell_type": "code",
   "execution_count": null,
   "metadata": {
    "collapsed": false
   },
   "outputs": [],
   "source": [
    "Xpc = pd.DataFrame(pca.transform(Xs), columns = range(0,components,1), index = X.index)"
   ]
  },
  {
   "cell_type": "markdown",
   "metadata": {},
   "source": [
    "#### Visualize the PCA transformation"
   ]
  },
  {
   "cell_type": "code",
   "execution_count": null,
   "metadata": {
    "collapsed": false
   },
   "outputs": [],
   "source": [
    "%run -i 'support files/renders_PCA.py'\n",
    "pca_results(Xs, pca)\n",
    "plt.savefig('Figures/pcaEV.png', dpi =500)"
   ]
  },
  {
   "cell_type": "code",
   "execution_count": null,
   "metadata": {
    "collapsed": false,
    "scrolled": true
   },
   "outputs": [],
   "source": [
    "\n",
    "sm = pd.scatter_matrix(Xpc, \n",
    "                       alpha=0.5, \n",
    "                       figsize= (10,10), \n",
    "                       diagonal = 'kde', \n",
    "                       c = y.replace({'n1': 'red','n0':'blue'}), \n",
    "                       s = 50)\n",
    "plt.savefig(\"Figures/pcaScatter.png\", dpi = 300)"
   ]
  },
  {
   "cell_type": "markdown",
   "metadata": {},
   "source": [
    "#### Appropriate the PCA transformed dataset via the current train, test split index"
   ]
  },
  {
   "cell_type": "code",
   "execution_count": null,
   "metadata": {
    "collapsed": false
   },
   "outputs": [],
   "source": [
    "X_train, X_test = Xpc.loc[X_train.index, :], Xpc.loc[X_test.index, :]"
   ]
  },
  {
   "cell_type": "markdown",
   "metadata": {},
   "source": [
    "## Train the Logistic Regression Algorithm\n",
    "Training with the first three principle components with cross validation to determine the optimal C parameter."
   ]
  },
  {
   "cell_type": "code",
   "execution_count": null,
   "metadata": {
    "collapsed": false
   },
   "outputs": [],
   "source": [
    "clf_LR = LogisticRegression(penalty='l2',\n",
    "                              dual=False,\n",
    "                              tol=0.0001,\n",
    "                              C=1,\n",
    "                              fit_intercept=True,\n",
    "                              intercept_scaling=1,\n",
    "                              class_weight='balanced',\n",
    "                              random_state=123,\n",
    "                              solver='liblinear',\n",
    "                              max_iter=100,\n",
    "                              multi_class='ovr',\n",
    "                              verbose=0,\n",
    "                              warm_start=False,\n",
    "                              n_jobs=1)\n",
    "clf_LR.fit(X_train, y_train)"
   ]
  },
  {
   "cell_type": "markdown",
   "metadata": {},
   "source": [
    "### Visualize Model Performance on Training and Test sets"
   ]
  },
  {
   "cell_type": "code",
   "execution_count": null,
   "metadata": {
    "collapsed": false,
    "scrolled": false
   },
   "outputs": [],
   "source": [
    "%run -i 'Support Files/capstone_graphs.py'\n",
    "fig.savefig('Figures/PC3.png')"
   ]
  },
  {
   "cell_type": "markdown",
   "metadata": {},
   "source": [
    "### Measure Performance on the held-out test set"
   ]
  },
  {
   "cell_type": "code",
   "execution_count": null,
   "metadata": {
    "collapsed": false,
    "scrolled": false
   },
   "outputs": [],
   "source": [
    "run_name = '3_PCs'\n",
    "%run -i 'Support Files/capstone_performance.py'"
   ]
  },
  {
   "cell_type": "markdown",
   "metadata": {},
   "source": [
    "## Optimize the Logistic Regression Model"
   ]
  },
  {
   "cell_type": "code",
   "execution_count": null,
   "metadata": {
    "collapsed": false
   },
   "outputs": [],
   "source": [
    "clf_LR = LogisticRegressionCV(Cs=10, \n",
    "                              fit_intercept=True, \n",
    "                              cv=folds, \n",
    "                              dual=False, \n",
    "                              penalty='l2', \n",
    "                              scoring='log_loss', \n",
    "                              solver='liblinear', \n",
    "                              tol=0.0001, \n",
    "                              max_iter=100, \n",
    "                              class_weight='balanced', \n",
    "                              n_jobs=1, \n",
    "                              verbose=0, \n",
    "                              refit=True, \n",
    "                              intercept_scaling=1.0, \n",
    "                              multi_class='ovr', \n",
    "                              random_state=seed)\n",
    "clf_LR.fit(X_train, y_train)"
   ]
  },
  {
   "cell_type": "code",
   "execution_count": null,
   "metadata": {
    "collapsed": false,
    "scrolled": true
   },
   "outputs": [],
   "source": [
    "print(\"The optimal C term: \",clf_LR.C_)"
   ]
  },
  {
   "cell_type": "markdown",
   "metadata": {},
   "source": [
    "### Visualize Model Performance on Training and Test sets"
   ]
  },
  {
   "cell_type": "code",
   "execution_count": null,
   "metadata": {
    "collapsed": false,
    "scrolled": false
   },
   "outputs": [],
   "source": [
    "%run -i 'Support Files/capstone_graphs.py'\n",
    "fig.savefig('Figures/optPC3.png')"
   ]
  },
  {
   "cell_type": "markdown",
   "metadata": {},
   "source": [
    "### Measure Performance on the held-out test set"
   ]
  },
  {
   "cell_type": "code",
   "execution_count": null,
   "metadata": {
    "collapsed": false,
    "scrolled": false
   },
   "outputs": [],
   "source": [
    "run_name = '3_PCs_optimized'\n",
    "%run -i 'Support Files/capstone_performance.py'"
   ]
  },
  {
   "cell_type": "markdown",
   "metadata": {},
   "source": [
    "### Incorporate Gleason score"
   ]
  },
  {
   "cell_type": "code",
   "execution_count": null,
   "metadata": {
    "collapsed": false
   },
   "outputs": [],
   "source": [
    "X_train.loc[:,'gleason'] = clinicalDF.loc[X_train.index,'gleason']\n",
    "X_test.loc[:,'gleason'] = clinicalDF.loc[X_test.index, 'gleason']"
   ]
  },
  {
   "cell_type": "markdown",
   "metadata": {
    "collapsed": true
   },
   "source": [
    "### Retrain Logistic Regression model with CV for C term"
   ]
  },
  {
   "cell_type": "code",
   "execution_count": null,
   "metadata": {
    "collapsed": false
   },
   "outputs": [],
   "source": [
    "clf_LR = LogisticRegressionCV(Cs=10, \n",
    "                              fit_intercept=True, \n",
    "                              cv=folds, \n",
    "                              dual=False, \n",
    "                              penalty='l2', \n",
    "                              scoring='log_loss', \n",
    "                              solver='liblinear', \n",
    "                              tol=0.0001, \n",
    "                              max_iter=100, \n",
    "                              class_weight='balanced', \n",
    "                              n_jobs=1, \n",
    "                              verbose=0, \n",
    "                              refit=True, \n",
    "                              intercept_scaling=1.0, \n",
    "                              multi_class='ovr', \n",
    "                              random_state=seed)\n",
    "clf_LR.fit(X_train, y_train)"
   ]
  },
  {
   "cell_type": "markdown",
   "metadata": {},
   "source": [
    "#### Visualize Model Performance\n",
    "Trained on First 3 PCs + gleason score"
   ]
  },
  {
   "cell_type": "code",
   "execution_count": null,
   "metadata": {
    "collapsed": false
   },
   "outputs": [],
   "source": [
    "%run -i 'Support Files/capstone_graphs.py'\n",
    "plt.savefig('Figures/PC3Gleason.png')"
   ]
  },
  {
   "cell_type": "code",
   "execution_count": null,
   "metadata": {
    "collapsed": false
   },
   "outputs": [],
   "source": [
    "sm = pd.scatter_matrix(X_train, \n",
    "                       alpha=0.5, \n",
    "                       figsize= (12,12), \n",
    "                       diagonal = 'kde', \n",
    "                       c = y_train.replace({'n1': 'red','n0':'blue'}), \n",
    "                       s = 50)\n",
    "plt.savefig('Figures/FeatureSM.png')"
   ]
  },
  {
   "cell_type": "markdown",
   "metadata": {
    "collapsed": false
   },
   "source": [
    "#### Performance Measure"
   ]
  },
  {
   "cell_type": "code",
   "execution_count": null,
   "metadata": {
    "collapsed": false,
    "scrolled": false
   },
   "outputs": [],
   "source": [
    "run_name = 'Final_Model'\n",
    "%run -i 'Support Files/capstone_performance.py'"
   ]
  },
  {
   "cell_type": "markdown",
   "metadata": {},
   "source": [
    "#### Is each feature important for model performance?"
   ]
  },
  {
   "cell_type": "code",
   "execution_count": null,
   "metadata": {
    "collapsed": false
   },
   "outputs": [],
   "source": [
    "pd.DataFrame({'Component': X_train.columns, 'coef': clf_LR.coef_[0]})"
   ]
  },
  {
   "cell_type": "code",
   "execution_count": null,
   "metadata": {
    "collapsed": false
   },
   "outputs": [],
   "source": [
    "%run -i 'Support Files/final_graph.py'\n",
    "fig.savefig('Figures/FF.png')"
   ]
  },
  {
   "cell_type": "markdown",
   "metadata": {},
   "source": [
    "## Conclusions and Discussion"
   ]
  },
  {
   "cell_type": "markdown",
   "metadata": {},
   "source": [
    "### Function for Prostate Cancer Metastasis Risk"
   ]
  },
  {
   "cell_type": "code",
   "execution_count": null,
   "metadata": {
    "collapsed": false
   },
   "outputs": [],
   "source": [
    "def risk_function(barcode, DF, clinDF, genes, scaler, fit_pca, fit_clf) :\n",
    "    self = DF.loc[barcode,genes].reshape(1,-1)\n",
    "    self = pd.DataFrame(scaler.transform(self))\n",
    "    self = pd.DataFrame(fit_pca.transform(self), index = [barcode])\n",
    "    self['gleason'] = clinDF.loc[barcode,'gleasonscore']\n",
    "    return(fit_clf.predict_proba(self)[0,1])\n",
    "    \n",
    "\n"
   ]
  },
  {
   "cell_type": "code",
   "execution_count": null,
   "metadata": {
    "collapsed": false
   },
   "outputs": [],
   "source": [
    "risk = []\n",
    "for x in not_labeled.index :\n",
    "    risk.append(risk_function(barcode = x,\n",
    "              DF = X_all,\n",
    "              clinDF = clinical,\n",
    "              genes = genes,\n",
    "              fit_pca = pca,\n",
    "              scaler = scaler,\n",
    "              fit_clf = clf_LR))\n",
    "model_risk = pd.Series(risk, index=not_labeled.index)"
   ]
  },
  {
   "cell_type": "code",
   "execution_count": null,
   "metadata": {
    "collapsed": false
   },
   "outputs": [],
   "source": [
    "clinicalDF_all.drop(['y'], axis=1, inplace = True)"
   ]
  },
  {
   "cell_type": "code",
   "execution_count": null,
   "metadata": {
    "collapsed": false
   },
   "outputs": [],
   "source": [
    "bench_risk = pd.Series(clf_LR_clin.predict_proba(clinicalDF_all.loc[not_labeled.index,:])[:,1])"
   ]
  },
  {
   "cell_type": "code",
   "execution_count": null,
   "metadata": {
    "collapsed": false
   },
   "outputs": [],
   "source": [
    "n0_question = X_all.loc[y[y!='n1'].index, :]"
   ]
  },
  {
   "cell_type": "code",
   "execution_count": null,
   "metadata": {
    "collapsed": false
   },
   "outputs": [],
   "source": [
    "risk = []\n",
    "for x in n0_question.index :\n",
    "    risk.append(risk_function(barcode = x,\n",
    "              DF = n0_question,\n",
    "              clinDF = clinical,\n",
    "              genes = genes,\n",
    "              fit_pca = pca,\n",
    "              scaler = scaler,\n",
    "              fit_clf = clf_LR))\n",
    "n0_risk = pd.Series(risk, index=n0_question.index)"
   ]
  },
  {
   "cell_type": "markdown",
   "metadata": {},
   "source": [
    "### Visualize unlabeled and 'non-metastatic' cases from the TCGA cohort"
   ]
  },
  {
   "cell_type": "code",
   "execution_count": null,
   "metadata": {
    "collapsed": false
   },
   "outputs": [],
   "source": [
    "%run -i 'Support Files/free-form.py'\n",
    "fig.savefig('Figures/missing.png')"
   ]
  },
  {
   "cell_type": "code",
   "execution_count": null,
   "metadata": {
    "collapsed": false
   },
   "outputs": [],
   "source": [
    "%run -i 'Support Files/free-form2.py'\n",
    "fig.savefig('Figures/N0Analysis.png')"
   ]
  },
  {
   "cell_type": "markdown",
   "metadata": {},
   "source": [
    "It is important to remember that the dataset utilized in this project is longitudinal and active, and indeed some cases listed as 'n0' will eventually be diagnosed as 'n1'.  Even though the model was trained on such false-negative labeled cases, some of the 'n0' class are still predicted as highly likely to metastasize.  If the dataset were linked somehow to patient records (for ethical purposes, no such link exists), then these patients should be monitored with extreme care for signs of metastasis based on the predictions made by the project model."
   ]
  },
  {
   "cell_type": "code",
   "execution_count": null,
   "metadata": {
    "collapsed": false
   },
   "outputs": [],
   "source": [
    "n0_risk[n0_risk > 0.75].sort_values(ascending = False)"
   ]
  },
  {
   "cell_type": "markdown",
   "metadata": {
    "collapsed": true
   },
   "source": [
    "### Sensitivity Analysis"
   ]
  },
  {
   "cell_type": "code",
   "execution_count": null,
   "metadata": {
    "collapsed": true
   },
   "outputs": [],
   "source": [
    "benign = feather.read_dataframe('feather_files/benign.feather')"
   ]
  },
  {
   "cell_type": "code",
   "execution_count": null,
   "metadata": {
    "collapsed": false
   },
   "outputs": [],
   "source": [
    "benign.set_index(['benign_index'], inplace = True)"
   ]
  },
  {
   "cell_type": "code",
   "execution_count": null,
   "metadata": {
    "collapsed": false
   },
   "outputs": [],
   "source": [
    "benign.shape"
   ]
  },
  {
   "cell_type": "code",
   "execution_count": null,
   "metadata": {
    "collapsed": false
   },
   "outputs": [],
   "source": [
    "benign_tpm = transformation(benign)"
   ]
  },
  {
   "cell_type": "code",
   "execution_count": null,
   "metadata": {
    "collapsed": false
   },
   "outputs": [],
   "source": [
    "risk = []\n",
    "for x in benign.index :\n",
    "    risk.append(risk_function(barcode = x,\n",
    "              DF = benign,\n",
    "              clinDF = clinical,\n",
    "              genes = genes,\n",
    "              fit_pca = pca,\n",
    "              scaler = scaler,\n",
    "              fit_clf = clf_LR))\n",
    "benign_risk = pd.Series(risk, index=benign.index)"
   ]
  },
  {
   "cell_type": "code",
   "execution_count": null,
   "metadata": {
    "collapsed": false
   },
   "outputs": [],
   "source": [
    "\n",
    "fig = plt.figure(figsize=(8,4))\n",
    "A = fig.add_subplot(1,1,1)\n",
    "A.hist(benign_risk.sort_values(ascending=False),\n",
    "       bins=12,\n",
    "       facecolor='blue')\n",
    "#A.set_yscale('log')\n",
    "A.set_ylabel('Count', fontsize=16)\n",
    "A.set_xlim(0,1)\n",
    "A.set_xlabel(\"Model Probability of Metastasis\", fontsize=16)\n",
    "fig.suptitle(\"Distribution of metastasis probability for benign samples\", fontsize = 14)\n",
    "plt.show()\n",
    "fig.savefig(\"Figures/Sensitivity.png\")"
   ]
  },
  {
   "cell_type": "code",
   "execution_count": null,
   "metadata": {
    "collapsed": true
   },
   "outputs": [],
   "source": []
  }
 ],
 "metadata": {
  "kernelspec": {
   "display_name": "Python 3",
   "language": "python",
   "name": "python3"
  },
  "language_info": {
   "codemirror_mode": {
    "name": "ipython",
    "version": 3
   },
   "file_extension": ".py",
   "mimetype": "text/x-python",
   "name": "python",
   "nbconvert_exporter": "python",
   "pygments_lexer": "ipython3",
   "version": "3.5.1"
  }
 },
 "nbformat": 4,
 "nbformat_minor": 0
}
